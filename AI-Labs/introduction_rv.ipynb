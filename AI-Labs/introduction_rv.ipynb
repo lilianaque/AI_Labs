{
 "cells": [
  {
   "cell_type": "markdown",
   "id": "bdea7dd3",
   "metadata": {},
   "source": [
    "* * *\n",
    "<pre> NYU Paris            <i> Artificial intelligence - Fall 2023 </i></pre>\n",
    "* * *\n",
    "\n",
    "\n",
    "<h1 align=\"center\"> Lab 2: Playing with random variables  </h1>\n",
    "\n",
    "<pre align=\"left\"> September 1st 2023               <i> Author: Hicham Janati </i></pre>\n",
    "* * *\n",
    "\n",
    "\n",
    "##### Goals:\n",
    "- Random numbers generation with numpy\n",
    "- Get familiar with the law of large numbers and the central limit theorem\n"
   ]
  },
  {
   "cell_type": "markdown",
   "id": "0055616d",
   "metadata": {},
   "source": [
    "##  Random variables, the LLN and the CLT\n",
    "Let $X$ be a random variable with mean $\\mu$ and variance $\\sigma^2$.\n",
    "\n",
    "The law of large numbers states that the empirical mean $\\bar{X_n}$ converges to the true mean $\\mu$ as $n\\to+\\infty$.\n",
    "\n",
    "The central limit theorem provides a rate of convergence as well as the distribution of the errors of the empirical mean as $n \\to +\\infty$:\n",
    "\n",
    "$$\\frac{\\sqrt{n}}{\\sigma} (\\bar{X_n} - \\mu) \\sim \\text{Gaussian}(0, 1)$$"
   ]
  },
  {
   "cell_type": "markdown",
   "id": "9bdbadd2",
   "metadata": {},
   "source": [
    "We are going to test this result empirically. \n",
    "In the rest of this section, $X$ is a Bernoulli random variable (fair coin flip)."
   ]
  },
  {
   "cell_type": "code",
   "execution_count": 2,
   "id": "381f0a8a",
   "metadata": {},
   "outputs": [],
   "source": [
    "import numpy as np\n",
    "import matplotlib.pyplot as plt"
   ]
  },
  {
   "cell_type": "markdown",
   "id": "72c4f884",
   "metadata": {},
   "source": [
    "### Question 1\n",
    "What is the mean and variance of $X$ ?\n",
    "\n",
    "### Question 2\n",
    "Generate an sample of size 100 and compute its mean."
   ]
  },
  {
   "cell_type": "markdown",
   "id": "bfe7e394",
   "metadata": {},
   "source": []
  },
  {
   "cell_type": "markdown",
   "id": "996b1081",
   "metadata": {},
   "source": [
    "### Question 3\n",
    "Complete the following code to test the LLN theorem. We want to plot the errors: \n",
    "$$ error_n = |\\bar{X_n} - limit| $$\n",
    "and visualize their convergence to zero."
   ]
  },
  {
   "cell_type": "code",
   "execution_count": 2,
   "id": "740fd6c8",
   "metadata": {},
   "outputs": [],
   "source": [
    "# expected limit\n",
    "lln_limit = \n",
    "\n",
    "ns = np.arange(10, 10000, 100)\n",
    "\n",
    "# compute means here\n",
    "\n",
    "errors = \n",
    "\n",
    "\n",
    "plt.figure()\n",
    "plt.plot(    )\n",
    "plt.show()"
   ]
  },
  {
   "cell_type": "markdown",
   "id": "609b13ab",
   "metadata": {},
   "source": [
    "### Question 4\n",
    "As increases these errors (with the sign) should follow a Gaussian distribution. With a provided and fixed N, write a function that computes M samples of the error $E_n = \\frac{\\sqrt{n}}{\\sigma} (\\bar{X_n} - \\mu)$"
   ]
  },
  {
   "cell_type": "code",
   "execution_count": 3,
   "id": "251e423f",
   "metadata": {},
   "outputs": [
    {
     "ename": "NameError",
     "evalue": "name 'X' is not defined",
     "output_type": "error",
     "traceback": [
      "\u001b[0;31m---------------------------------------------------------------------------\u001b[0m",
      "\u001b[0;31mNameError\u001b[0m                                 Traceback (most recent call last)",
      "Cell \u001b[0;32mIn[3], line 2\u001b[0m\n\u001b[1;32m      1\u001b[0m x\u001b[38;5;241m=\u001b[39mnp\u001b[38;5;241m.\u001b[39mrandom\u001b[38;5;241m.\u001b[39mrandint(\u001b[38;5;241m2\u001b[39m, size\u001b[38;5;241m=\u001b[39m(\u001b[38;5;241m10\u001b[39m,\u001b[38;5;241m5\u001b[39m))\n\u001b[0;32m----> 2\u001b[0m E\u001b[38;5;241m=\u001b[39mX\u001b[38;5;241m.\u001b[39mmean(axis\u001b[38;5;241m=\u001b[39m\u001b[38;5;241m1\u001b[39m)\n\u001b[1;32m      3\u001b[0m E\u001b[38;5;241m.\u001b[39mshape\n",
      "\u001b[0;31mNameError\u001b[0m: name 'X' is not defined"
     ]
    }
   ],
   "source": [
    "x=np.random.randint(2, size=(10,5))\n",
    "E=X.mean(axis=1)\n",
    "E.shape"
   ]
  },
  {
   "cell_type": "code",
   "execution_count": 4,
   "id": "053830b0",
   "metadata": {},
   "outputs": [],
   "source": [
    "def generate_errors(n, M):\n",
    "    X\n",
    "    \n",
    "    \n",
    "    return E # E should be an array of size M"
   ]
  },
  {
   "cell_type": "code",
   "execution_count": null,
   "id": "36c50e9e",
   "metadata": {},
   "outputs": [],
   "source": []
  },
  {
   "cell_type": "markdown",
   "id": "d294baf9",
   "metadata": {},
   "source": [
    "### Question 5\n",
    "Complete the following cell to plot a histogram of the errors and the true density."
   ]
  },
  {
   "cell_type": "code",
   "execution_count": null,
   "id": "d3f5cce8",
   "metadata": {},
   "outputs": [],
   "source": [
    "n = 10000\n",
    "M = 1000\n",
    "E = generate_errors(n, M)\n",
    "\n",
    "x = np.linspace(-6, 6, 100)\n",
    "density =\n",
    "\n",
    "plt.figure()\n",
    "plt.plot(x, density, color=\"cornflowerblue\", lw=2, label=\"Gaussian density function\")\n",
    "plt.hist(E, bins=100, alpha=0.6, color=\"gold\", label=\"Errors histogram\")\n",
    "plt.legend()\n",
    "plt.show()"
   ]
  },
  {
   "cell_type": "code",
   "execution_count": null,
   "id": "91942b66",
   "metadata": {},
   "outputs": [],
   "source": []
  },
  {
   "cell_type": "markdown",
   "id": "c7625bcc",
   "metadata": {},
   "source": [
    "### Question 6\n",
    "Repeat this operation for lower values of n and display the same plot on different axes as n increases. What do you notice ? Do you know a way to evaluate this result other than visually ?"
   ]
  },
  {
   "cell_type": "code",
   "execution_count": null,
   "id": "75f3ee0f",
   "metadata": {},
   "outputs": [],
   "source": []
  },
  {
   "cell_type": "markdown",
   "id": "3f3fa5bb",
   "metadata": {},
   "source": [
    "### Question 7\n",
    "Repeat these experiments with a different choice of X. "
   ]
  },
  {
   "cell_type": "code",
   "execution_count": null,
   "id": "a88f2948",
   "metadata": {},
   "outputs": [],
   "source": []
  }
 ],
 "metadata": {
  "kernelspec": {
   "display_name": "Python 3 (ipykernel)",
   "language": "python",
   "name": "python3"
  },
  "language_info": {
   "codemirror_mode": {
    "name": "ipython",
    "version": 3
   },
   "file_extension": ".py",
   "mimetype": "text/x-python",
   "name": "python",
   "nbconvert_exporter": "python",
   "pygments_lexer": "ipython3",
   "version": "3.11.4"
  }
 },
 "nbformat": 4,
 "nbformat_minor": 5
}
