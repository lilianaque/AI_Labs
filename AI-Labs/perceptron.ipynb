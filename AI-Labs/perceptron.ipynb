{
 "cells": [
  {
   "cell_type": "markdown",
   "id": "bdea7dd3",
   "metadata": {},
   "source": [
    "* * *\n",
    "<pre> NYU Paris            <i> Artificial intelligence - Fall 2023 </i></pre>\n",
    "* * *\n",
    "\n",
    "\n",
    "<h1 align=\"center\"> Lab 4: The monolayer perceptron </h1>\n",
    "\n",
    "<pre align=\"left\"> September 15th 2023               <i> Author: Hicham Janati </i></pre>\n",
    "* * *\n",
    "\n",
    "\n",
    "##### Goals:\n",
    "- Implement your first classifier\n",
    "- Understand the concept of model complexity\n"
   ]
  },
  {
   "cell_type": "markdown",
   "id": "fa0f07a0",
   "metadata": {},
   "source": [
    "Let's a generate a simple toy dataset."
   ]
  },
  {
   "cell_type": "code",
   "execution_count": 7,
   "id": "96312646",
   "metadata": {},
   "outputs": [
    {
     "name": "stdout",
     "output_type": "stream",
     "text": [
      "Shape of the data (100, 2)\n",
      "labels: [ 1  1 -1 -1  1 -1 -1  1 -1  1 -1  1 -1 -1  1  1  1 -1  1  1 -1 -1  1 -1\n",
      "  1 -1  1 -1 -1  1  1 -1  1  1  1 -1  1  1 -1  1 -1 -1 -1 -1  1  1  1  1\n",
      " -1 -1  1  1 -1 -1 -1 -1 -1  1  1  1  1 -1 -1  1 -1  1 -1 -1  1 -1 -1  1\n",
      "  1 -1 -1 -1  1  1 -1 -1  1 -1 -1 -1 -1 -1  1 -1  1  1  1  1  1  1 -1 -1\n",
      "  1  1 -1  1]\n"
     ]
    }
   ],
   "source": [
    "from sklearn.datasets import make_blobs\n",
    "\n",
    "X, y = make_blobs(n_samples=100, centers=2, n_features=2, cluster_std=0.3, random_state=0)\n",
    "\n",
    "labels = y.copy()\n",
    "y[y==0] = -1\n",
    "\n",
    "print(\"Shape of the data\", X.shape)\n",
    "print(\"labels:\", y)"
   ]
  },
  {
   "cell_type": "code",
   "execution_count": 8,
   "id": "f139beda",
   "metadata": {},
   "outputs": [
    {
     "ename": "NameError",
     "evalue": "name 'plt' is not defined",
     "output_type": "error",
     "traceback": [
      "\u001b[0;31m---------------------------------------------------------------------------\u001b[0m",
      "\u001b[0;31mNameError\u001b[0m                                 Traceback (most recent call last)",
      "Cell \u001b[0;32mIn[8], line 4\u001b[0m\n\u001b[1;32m      1\u001b[0m colors \u001b[38;5;241m=\u001b[39m [\u001b[38;5;124m\"\u001b[39m\u001b[38;5;124mred\u001b[39m\u001b[38;5;124m\"\u001b[39m, \u001b[38;5;124m\"\u001b[39m\u001b[38;5;124mblack\u001b[39m\u001b[38;5;124m\"\u001b[39m]\n\u001b[1;32m      2\u001b[0m scatter_colors \u001b[38;5;241m=\u001b[39m np\u001b[38;5;241m.\u001b[39marray(colors)[labels]\n\u001b[0;32m----> 4\u001b[0m plt\u001b[38;5;241m.\u001b[39mfigure()\n\u001b[1;32m      5\u001b[0m plt\u001b[38;5;241m.\u001b[39mscatter(X[:, \u001b[38;5;241m0\u001b[39m], X[:, \u001b[38;5;241m1\u001b[39m], color\u001b[38;5;241m=\u001b[39mscatter_colors)\n\u001b[1;32m      6\u001b[0m plt\u001b[38;5;241m.\u001b[39mshow()\n",
      "\u001b[0;31mNameError\u001b[0m: name 'plt' is not defined"
     ]
    }
   ],
   "source": [
    "\n",
    "colors = [\"red\", \"black\"]\n",
    "scatter_colors = np.array(colors)[labels]\n",
    "\n",
    "plt.figure()\n",
    "plt.scatter(X[:, 0], X[:, 1], color=scatter_colors)\n",
    "plt.show()"
   ]
  },
  {
   "cell_type": "markdown",
   "id": "19a59e31",
   "metadata": {},
   "source": [
    "A monolayer perceptron is a geometric method that performs classification using a linear decision function of the form:\n",
    "$$ f(x) = \\langle w, x\\rangle + \\theta$$\n",
    "or with a different notation:\n",
    "$$ f(x) = w^\\top x + \\theta$$\n"
   ]
  },
  {
   "cell_type": "markdown",
   "id": "478ad352",
   "metadata": {},
   "source": []
  },
  {
   "cell_type": "markdown",
   "id": "f77ca4e3",
   "metadata": {},
   "source": [
    "### Question 1\n",
    "\n",
    "Given a sample $x$, a prediction is then given by taking the sign of $f$:\n",
    "\n",
    "$ prediction(x) = 1$ if $f(x) \\geq 0$ and -1 if $f(x) < 0$.\n",
    "\n",
    "Complete the function below that performs gradient descent to optimize the parameters $w$ and $\\theta$.\n",
    "\n",
    "The loss function that we minimize is:\n",
    "\n",
    "$$l_i(w) = (-y_i \\sum_{i=1}^n x_i w)_+$$\n",
    "\n",
    "Hint: Take a look at the lectures slides to refresh your memory on how to update the parameters"
   ]
  },
  {
   "cell_type": "code",
   "execution_count": null,
   "id": "57944b17",
   "metadata": {},
   "outputs": [],
   "source": [
    "import numpy as np\n",
    "def gradient_descent(X, y, step_size=0.01, n_iter=10000):\n",
    "    n_samples, n_features = X.shape\n",
    "    # do initialization\n",
    "    w = np.zeros(n_features)\n",
    "    theta = 0.\n",
    "    for t in range(n_iter):\n",
    "        for ii in range(n_samples):\n",
    "            # for each sample, if its an error do gradient step\n",
    "            gradient_w=-y[ii]*x[ii]\n",
    "            gradient_theta=-y[ii]\n",
    "            if y[ii] * (w.dot(X[ii])+theta)<=0:\n",
    "                converged=False\n",
    "                plot(w, theta, X,ii)\n",
    "                w=w-step_size*gradient_w\n",
    "                theta=theta-step_size*gradient_w\n",
    "        if converged:\n",
    "            break\n",
    "    plot(w, theta, X, ii)\n",
    "    print(f\"Did {t} iterations\")\n",
    "    \n",
    "    return w, theta"
   ]
  },
  {
   "cell_type": "code",
   "execution_count": 9,
   "id": "fbfac941",
   "metadata": {},
   "outputs": [
    {
     "ename": "NameError",
     "evalue": "name 'x' is not defined",
     "output_type": "error",
     "traceback": [
      "\u001b[0;31m---------------------------------------------------------------------------\u001b[0m",
      "\u001b[0;31mNameError\u001b[0m                                 Traceback (most recent call last)",
      "Cell \u001b[0;32mIn[9], line 1\u001b[0m\n\u001b[0;32m----> 1\u001b[0m gradient_descent(X, y)\n",
      "Cell \u001b[0;32mIn[3], line 10\u001b[0m, in \u001b[0;36mgradient_descent\u001b[0;34m(X, y, step_size, n_iter)\u001b[0m\n\u001b[1;32m      7\u001b[0m \u001b[38;5;28;01mfor\u001b[39;00m t \u001b[38;5;129;01min\u001b[39;00m \u001b[38;5;28mrange\u001b[39m(n_iter):\n\u001b[1;32m      8\u001b[0m     \u001b[38;5;28;01mfor\u001b[39;00m ii \u001b[38;5;129;01min\u001b[39;00m \u001b[38;5;28mrange\u001b[39m(n_samples):\n\u001b[1;32m      9\u001b[0m         \u001b[38;5;66;03m# for each sample, if its an error do gradient step\u001b[39;00m\n\u001b[0;32m---> 10\u001b[0m         gradient_w\u001b[38;5;241m=\u001b[39m\u001b[38;5;241m-\u001b[39my[ii]\u001b[38;5;241m*\u001b[39mx[ii]\n\u001b[1;32m     11\u001b[0m         gradient_theta\u001b[38;5;241m=\u001b[39m\u001b[38;5;241m-\u001b[39my[ii]\n\u001b[1;32m     12\u001b[0m         \u001b[38;5;28;01mif\u001b[39;00m y[ii] \u001b[38;5;241m*\u001b[39m (w\u001b[38;5;241m.\u001b[39mdot(X[ii])\u001b[38;5;241m+\u001b[39mtheta)\u001b[38;5;241m<\u001b[39m\u001b[38;5;241m=\u001b[39m\u001b[38;5;241m0\u001b[39m:\n",
      "\u001b[0;31mNameError\u001b[0m: name 'x' is not defined"
     ]
    }
   ],
   "source": [
    "gradient_descent(X, y)\n"
   ]
  },
  {
   "cell_type": "markdown",
   "id": "a2787b93",
   "metadata": {},
   "source": [
    "### Question 2\n",
    "The funciton $f$ is parametrized using one slope vector $w$ and the offset scalar $\\theta$.\n",
    "Can you think of a change of variable and change to the data X such that this parametrization is reduced to only one parameter $w$ to get a function of the form:\n",
    "\n",
    "$$ f(x) = w^\\top x$$ \n",
    "\n",
    "### Question 3\n",
    "Implement this change in your model and update the gradient descent function accordingly."
   ]
  },
  {
   "cell_type": "code",
   "execution_count": null,
   "id": "6b87e02b",
   "metadata": {},
   "outputs": [],
   "source": []
  },
  {
   "cell_type": "markdown",
   "id": "2b7d1b55",
   "metadata": {},
   "source": [
    "### Question 4\n",
    "Write a function that uses the learned parameters to make predictions."
   ]
  },
  {
   "cell_type": "code",
   "execution_count": null,
   "id": "305705f4",
   "metadata": {},
   "outputs": [],
   "source": [
    "def predict(x, w):\n",
    "    \n",
    "    return"
   ]
  },
  {
   "cell_type": "markdown",
   "id": "592126be",
   "metadata": {},
   "source": [
    "### Question 5\n",
    "Time to write a proper classifier object that following the sklearn API. We import the sklearn BaseEstimator model and customize it with our gradient descent function. Complete the following cell:"
   ]
  },
  {
   "cell_type": "code",
   "execution_count": null,
   "id": "272904b2",
   "metadata": {},
   "outputs": [],
   "source": [
    "from sklearn.base import BaseEstimator\n",
    "\n",
    "class Perceptron(BaseEstimator):\n",
    "    def __init__(self, step_size=0.1, n_iter=1000):\n",
    "        self.step_size = step_size\n",
    "        self.n_iter = n_iter\n",
    "    \n",
    "    def fit(self, X, y):\n",
    "        # TODO\n",
    "        \n",
    "    def predict(self, X):\n",
    "        # TO DO\n",
    "        \n",
    "        "
   ]
  },
  {
   "cell_type": "markdown",
   "id": "31e6dd3b",
   "metadata": {},
   "source": [
    "### Question 6\n",
    "Time to properly evaluate our model. Divide the data into train-test.\n",
    "Create an instance of your perceptron, train it on the data and compute a test accuracy score. "
   ]
  },
  {
   "cell_type": "code",
   "execution_count": null,
   "id": "f2f3f1bc",
   "metadata": {},
   "outputs": [],
   "source": [
    "from sklearn.model_selection import train_test_split\n",
    "\n",
    "X_train, X_test, y_train, y_test = train_test_split(X, y, test_size=0.5)\n"
   ]
  },
  {
   "cell_type": "code",
   "execution_count": null,
   "id": "ea2ca4f5",
   "metadata": {},
   "outputs": [],
   "source": []
  },
  {
   "cell_type": "markdown",
   "id": "52153819",
   "metadata": {},
   "source": [
    "### Question 7:\n",
    "Complete the code below to plot the accuracy curve for a list of `train_size`. What do you notice ?"
   ]
  },
  {
   "cell_type": "code",
   "execution_count": null,
   "id": "22ab7f71",
   "metadata": {},
   "outputs": [],
   "source": [
    "train_sizes = np.linspace(0.1, 0.9, 10)\n",
    "\n",
    "accuracies = []\n",
    "\n",
    "for test_size in train_sizes:\n",
    "    accuracies.append(train_size)\n",
    "    ##\n",
    "    \n"
   ]
  }
 ],
 "metadata": {
  "kernelspec": {
   "display_name": "Python 3 (ipykernel)",
   "language": "python",
   "name": "python3"
  },
  "language_info": {
   "codemirror_mode": {
    "name": "ipython",
    "version": 3
   },
   "file_extension": ".py",
   "mimetype": "text/x-python",
   "name": "python",
   "nbconvert_exporter": "python",
   "pygments_lexer": "ipython3",
   "version": "3.11.4"
  }
 },
 "nbformat": 4,
 "nbformat_minor": 5
}
