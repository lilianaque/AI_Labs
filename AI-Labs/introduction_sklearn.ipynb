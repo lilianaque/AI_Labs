{
 "cells": [
  {
   "cell_type": "markdown",
   "id": "bdea7dd3",
   "metadata": {},
   "source": [
    "* * *\n",
    "<pre> NYU Paris            <i> Artificial intelligence - Fall 2023 </i></pre>\n",
    "* * *\n",
    "\n",
    "\n",
    "<h1 align=\"center\"> Lab 3: First steps with scikit-learn </h1>\n",
    "\n",
    "<pre align=\"left\"> September 7th 2023               <i> Author: Hicham Janati </i></pre>\n",
    "* * *\n",
    "\n",
    "\n",
    "##### Goals:\n",
    "- Get your hands dirty: read and manipulate data as `Numpy` arrays and visualize it using `matplotlib`\n",
    "- Understand what PCA is and when to use it\n",
    "- Make your first machine learning prediction with scikit-learn using LDA (linear discriminant analysis)\n"
   ]
  },
  {
   "cell_type": "markdown",
   "id": "0055616d",
   "metadata": {},
   "source": [
    "## 1 - Reading and visualizing data \n"
   ]
  },
  {
   "cell_type": "markdown",
   "id": "9bdbadd2",
   "metadata": {},
   "source": [
    "First we load a dataset containing handwritten digit images. These are low resolution (8 x 8) images each containing a handwritten digit in (0-9)."
   ]
  },
  {
   "cell_type": "code",
   "execution_count": 1,
   "id": "bc310233",
   "metadata": {},
   "outputs": [
    {
     "name": "stdout",
     "output_type": "stream",
     "text": [
      "Shape of the data X: (1797, 64)\n",
      "First image values reshaped to 8 x 8\n",
      " [[ 0.  0.  5. 13.  9.  1.  0.  0.]\n",
      " [ 0.  0. 13. 15. 10. 15.  5.  0.]\n",
      " [ 0.  3. 15.  2.  0. 11.  8.  0.]\n",
      " [ 0.  4. 12.  0.  0.  8.  8.  0.]\n",
      " [ 0.  5.  8.  0.  0.  9.  8.  0.]\n",
      " [ 0.  4. 11.  0.  1. 12.  7.  0.]\n",
      " [ 0.  2. 14.  5. 10. 12.  0.  0.]\n",
      " [ 0.  0.  6. 13. 10.  0.  0.  0.]]\n",
      "Min and Max value in the data: 0.0 16.0\n"
     ]
    }
   ],
   "source": [
    "from sklearn.datasets import load_digits\n",
    "digits = load_digits()\n",
    "X = digits.data\n",
    "print(\"Shape of the data X:\", X.shape)\n",
    "print(\"First image values reshaped to 8 x 8\\n\", X[0].reshape(8, 8))\n",
    "print(\"Min and Max value in the data:\", X.min(), X.max())"
   ]
  },
  {
   "cell_type": "markdown",
   "id": "996b1081",
   "metadata": {},
   "source": [
    "There are 1797 images with 64 pixels each. The value of each pixel corresponds to a grayscale level between 0 (white) and 16 (black).\n",
    "Let's visualize the first image. We reshape it to 8 x 8 then display it using `matplotlib`:"
   ]
  },
  {
   "cell_type": "code",
   "execution_count": 2,
   "id": "740fd6c8",
   "metadata": {},
   "outputs": [
    {
     "data": {
      "image/png": "[encoded data removed]",
      "text/plain": [
       "<Figure size 432x288 with 1 Axes>"
      ]
     },
     "metadata": {},
     "output_type": "display_data"
    }
   ],
   "source": [
    "import matplotlib.pyplot as plt\n",
    "\n",
    "plt.figure()\n",
    "plt.imshow(X[0].reshape(8, 8), cmap=\"Greys\")\n",
    "plt.xticks([])\n",
    "plt.yticks([])\n",
    "plt.show()"
   ]
  },
  {
   "cell_type": "markdown",
   "id": "9e0c31bc",
   "metadata": {},
   "source": [
    "The \"true\" digit values (a.k.a the labels or targets) are given in `digits.target`."
   ]
  },
  {
   "cell_type": "code",
   "execution_count": 3,
   "id": "c7174d32",
   "metadata": {},
   "outputs": [
    {
     "name": "stdout",
     "output_type": "stream",
     "text": [
      "Shape of the labels: (1797,)\n",
      "The first 10 labels: [0 1 2 3 4 5 6 7 8 9]\n"
     ]
    }
   ],
   "source": [
    "y = digits.target\n",
    "print(\"Shape of the labels:\", y.shape)\n",
    "print(\"The first 10 labels:\", y[:10])"
   ]
  },
  {
   "cell_type": "markdown",
   "id": "e9913505",
   "metadata": {},
   "source": [
    "Let's visualize the first 10 images with the true label on top:"
   ]
  },
  {
   "cell_type": "code",
   "execution_count": 4,
   "id": "55a0a55d",
   "metadata": {},
   "outputs": [
    {
     "data": {
      "image/png": "[encoded data removed]",
      "text/plain": [
       "<Figure size 1080x360 with 10 Axes>"
      ]
     },
     "metadata": {},
     "output_type": "display_data"
    }
   ],
   "source": [
    "f, axes = plt.subplots(2, 5, figsize=(15, 5))  # 2 rows, 5 columns\n",
    "for ii, ax in enumerate(axes.flatten()):\n",
    "    ax.imshow(X[ii].reshape(8, 8), cmap=\"Greys\")\n",
    "    ax.set_xticks([])\n",
    "    ax.set_yticks([])\n",
    "    ax.set_title(f\"Truth: {y[ii]}\")\n",
    "plt.show()\n"
   ]
  },
  {
   "cell_type": "markdown",
   "id": "4d2ce441",
   "metadata": {},
   "source": [
    "## 2 - Dimension reduction: PCA\n",
    "The data X have 64 dimensions or features. To visualize the entire dataset, we need to transform the data by reducing its dimension to only 2. For the visualization to be truly representative of the data, this dimension reduction should minimize the loss of information. Principal Components Analysis (PCA) constructs a number of \"principal components\" (features) that capture most of the variance of the data. Let's start with a toy example of two nested spirals we would like to discriminate."
   ]
  },
  {
   "cell_type": "code",
   "execution_count": null,
   "id": "fd9baa2c",
   "metadata": {},
   "outputs": [],
   "source": [
    "def make_spiral(n, radius, n_spirals=10):\n",
    "    angles = np.linspace(0., n_spirals, n) * np.pi * 2 \n",
    "    x = np.cos(angles) * np.linspace(radius, 3 * radius, n)\n",
    "    y = np.sin(angles) * np.linspace(radius, 3 * radius, n)\n",
    "    z = np.linspace(0., 1, n)\n",
    "    C = np.vstack((x, y, z)).T\n",
    "    \n",
    "    r = R.from_matrix([[0.5, 0., 0],\n",
    "                   [0., 0.6, 0.6],\n",
    "                   [0, -0.6, 0.6]])\n",
    "    C = r.apply(C)\n",
    "    return C\n",
    "\n",
    "def make_spirals(n, shift=0):\n",
    "    C1 = make_spiral(n, 0.05)\n",
    "    C2 = make_spiral(n, 0.1)\n",
    "    C2[:, 1] += shift\n",
    "    \n",
    "    return C1, C2\n",
    "\n",
    "\n",
    "C1, C2 = make_spirals(1000, shift=5)\n",
    "fig = plt.figure(figsize=(6, 6))\n",
    "ax = fig.add_subplot(projection='3d')\n",
    "ax.scatter3D(C1.T[0], C1.T[1], C1.T[2], s=2)\n",
    "ax.scatter3D(C2.T[0], C2.T[1], C2.T[2], s=2, color=\"r\")\n",
    "plt.show()"
   ]
  },
  {
   "cell_type": "markdown",
   "id": "1fd948a6",
   "metadata": {},
   "source": [
    "One can notice that to discriminate between both spirals, one does not need all 3D coordinates: since the spirals are perfectly nested, a projection on the \"base\" of the spirals should be enough. PCA can perform such a projection by **linearly** combining the x, y, z variables into two new variables that capture most of the variance."
   ]
  },
  {
   "cell_type": "code",
   "execution_count": null,
   "id": "d93057ed",
   "metadata": {},
   "outputs": [],
   "source": [
    "from sklearn.decomposition import PCA\n",
    "\n",
    "X = np.concatenate((C1, C2))\n",
    "pca = PCA(2)\n",
    "pca.fit(X)\n",
    "X_pca = pca.transform(X)\n",
    "\n",
    "plt.figure(figsize=(3, 3))\n",
    "plt.scatter(X_pca.T[0], X_pca.T[1], s=1)\n",
    "plt.show()"
   ]
  },
  {
   "cell_type": "code",
   "execution_count": null,
   "id": "af0fbe90",
   "metadata": {},
   "outputs": [],
   "source": [
    "print(X_pca.shape)"
   ]
  },
  {
   "cell_type": "markdown",
   "id": "ac2ade84",
   "metadata": {},
   "source": [
    "PCA reduced the dimension of the data from 3 to 2. The scatter plot above shows that both spirals are still clearly separated. It is important to note that **PCA was not provided any information about which spiral is which**: we provided the concatenated coordinates of both spirals. \n"
   ]
  },
  {
   "cell_type": "markdown",
   "id": "eaa000a5",
   "metadata": {},
   "source": [
    " PCA picks new components such that the variance of the projected data is maximized. We can retrieve the percentage of variance of each component:"
   ]
  },
  {
   "cell_type": "code",
   "execution_count": null,
   "id": "337e1244",
   "metadata": {},
   "outputs": [],
   "source": [
    "pca.explained_variance_ratio_"
   ]
  },
  {
   "cell_type": "markdown",
   "id": "f6c084b7",
   "metadata": {},
   "source": [
    "The two components account for 75% and 12% the variance of the data. The unexplained variance percentage (lost):"
   ]
  },
  {
   "cell_type": "code",
   "execution_count": null,
   "id": "b34afb12",
   "metadata": {},
   "outputs": [],
   "source": [
    "1 - pca.explained_variance_ratio_.sum()"
   ]
  },
  {
   "cell_type": "markdown",
   "id": "fdba0408",
   "metadata": {},
   "source": [
    "### Question 1:\n",
    " PCA picks new components such that the variance of the projected data is maximized.\n",
    " Can you think of a motivation behind this ? How could \"preserving information\" be associated with \"maximizing variance\" ?"
   ]
  },
  {
   "cell_type": "code",
   "execution_count": null,
   "id": "f3bd8e9c",
   "metadata": {},
   "outputs": [],
   "source": [
    "C1, C2 = make_spirals(1000, shift=0)\n",
    "fig = plt.figure(figsize=(6, 6))\n",
    "ax = fig.add_subplot(projection='3d')\n",
    "ax.scatter3D(C1.T[0], C1.T[1], C1.T[2], s=2)\n",
    "ax.scatter3D(C2.T[0], C2.T[1], C2.T[2], s=2, color=\"r\")\n",
    "plt.show()"
   ]
  },
  {
   "cell_type": "code",
   "execution_count": null,
   "id": "38908d84",
   "metadata": {},
   "outputs": [],
   "source": []
  },
  {
   "cell_type": "markdown",
   "id": "5eaa4ade",
   "metadata": {},
   "source": [
    "### Question 2:\n",
    "Before running PCA on these nested spirals, what do you expect to observe in the PCA output ?"
   ]
  },
  {
   "cell_type": "code",
   "execution_count": null,
   "id": "e390fffd",
   "metadata": {},
   "outputs": [],
   "source": []
  },
  {
   "cell_type": "markdown",
   "id": "38943b33",
   "metadata": {},
   "source": [
    "### Question 3:\n",
    "Run PCA on the handwritten digits data reducing its dimension from 64 to 2."
   ]
  },
  {
   "cell_type": "code",
   "execution_count": null,
   "id": "3a7ed2c6",
   "metadata": {},
   "outputs": [],
   "source": []
  },
  {
   "cell_type": "code",
   "execution_count": null,
   "id": "25966a7a",
   "metadata": {},
   "outputs": [],
   "source": [
    "from matplotlib import cm\n",
    "\n",
    "colors = cm.Paired(np.linspace(0., 1., 10)) # list of 10 colors\n",
    "\n",
    "colors_all = colors[digits.target]\n",
    "\n",
    "plt.figure()\n",
    "plt.scatter(X_pca[:, 0], X_pca[:, 1], color=colors_all)\n",
    "plt.show()"
   ]
  },
  {
   "cell_type": "markdown",
   "id": "d82c91d5",
   "metadata": {},
   "source": []
  },
  {
   "cell_type": "markdown",
   "id": "7051d910",
   "metadata": {},
   "source": [
    "## 3 - Making your first machine learning prediction \n",
    "First we split the data into train and test. Train data are used to _train_ the model i.e to learn using both the images and their true train labels (targets). Test data are used to _test_ the performance of the model by comparing its predictions to the unseen test labels.\n",
    "\n",
    "We are going to use a linear disciminant analysis classifier (LDA). \n",
    "\n",
    "The [sklearn documentation](https://scikit-learn.org/stable/modules/generated/sklearn.discriminant_analysis.LinearDiscriminantAnalysis.html) provides short and clear definitions of the model. "
   ]
  },
  {
   "cell_type": "code",
   "execution_count": null,
   "id": "31a87e4d",
   "metadata": {},
   "outputs": [],
   "source": [
    "from sklearn.model_selection import train_test_split\n",
    "from sklearn.discriminant_analysis import LinearDiscriminantAnalysis as LDA\n",
    "\n",
    "X_train, X_test, y_train, y_test = train_test_split(\n",
    "    X, digits.target, test_size=0.5, shuffle=False\n",
    ")\n",
    "\n",
    "lda = LDA()\n",
    "lda.fit(X_train, y_train)\n",
    "\n",
    "y_predict = lda.predict(X_test)\n"
   ]
  },
  {
   "cell_type": "markdown",
   "id": "34b8ca32",
   "metadata": {},
   "source": [
    "### Question 4:\n",
    "Compute the accuracy of the model by comparing the predictions to the true test labels."
   ]
  },
  {
   "cell_type": "code",
   "execution_count": null,
   "id": "1e263ee3",
   "metadata": {},
   "outputs": [],
   "source": []
  },
  {
   "cell_type": "markdown",
   "id": "bc12ca0c",
   "metadata": {},
   "source": [
    "### Question 5:\n",
    "Visualize the first 10 test images and their predicted label on top as a title.\n",
    "**Hint**: re-use the cell above that visualizes 10 images of the data"
   ]
  },
  {
   "cell_type": "code",
   "execution_count": null,
   "id": "9eb57e01",
   "metadata": {},
   "outputs": [],
   "source": [
    "\n"
   ]
  },
  {
   "cell_type": "markdown",
   "id": "f70f8c33",
   "metadata": {},
   "source": [
    "### Question 6:\n",
    "Complet the function below that takes as input the percentage of testing samples and returns the prediction accuracy. Plot the accuracy curve for a list of `test_size`. What do you notice ?"
   ]
  },
  {
   "cell_type": "code",
   "execution_count": null,
   "id": "2c8672ed",
   "metadata": {},
   "outputs": [],
   "source": [
    "def accuracy(test_size):\n",
    "    \n",
    "    # todo \n",
    "    return accuracy\n",
    "\n",
    "\n",
    "test_sizes = np.linspace(0.1, 0.9, 10)\n",
    "\n",
    "accuracies = []\n",
    "\n",
    "for test_size in test_sizes:\n",
    "    accuracies.append(test_size)\n",
    "    \n",
    "\n",
    "# plot to do"
   ]
  }
 ],
 "metadata": {
  "kernelspec": {
   "display_name": "Python 3 (ipykernel)",
   "language": "python",
   "name": "python3"
  },
  "language_info": {
   "codemirror_mode": {
    "name": "ipython",
    "version": 3
   },
   "file_extension": ".py",
   "mimetype": "text/x-python",
   "name": "python",
   "nbconvert_exporter": "python",
   "pygments_lexer": "ipython3",
   "version": "3.11.4"
  }
 },
 "nbformat": 4,
 "nbformat_minor": 5
}
