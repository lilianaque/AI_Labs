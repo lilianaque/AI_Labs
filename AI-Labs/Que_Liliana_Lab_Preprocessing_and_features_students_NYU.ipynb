{
 "cells": [
  {
   "cell_type": "markdown",
   "metadata": {
    "id": "xwV6SJE8jsL0"
   },
   "source": [
    "# Lab : Text pre-processing and features"
   ]
  },
  {
   "cell_type": "markdown",
   "metadata": {
    "id": "AOF5dbD8jsL2"
   },
   "source": [
    "## Objectives\n",
    "\n",
    "1. Implement a simple way to represent text data - Bag of words / TF-IDF\n",
    "2. Use pre-processing tools from Natural Language Processing\n",
    "3. Get word embeddings 'by hand' using dimension reduction on the term co-occurence matrix"
   ]
  },
  {
   "cell_type": "markdown",
   "metadata": {
    "id": "r8ryV8xxjsL3"
   },
   "source": [
    "## Necessary dependancies\n",
    "\n",
    "We will need the following packages:\n",
    "- The Machine Learning API Scikit-learn : http://scikit-learn.org/stable/install.html\n",
    "- The Natural Language Toolkit : http://www.nltk.org/install.html\n",
    "\n",
    "Both are available with Anaconda: https://anaconda.org/anaconda/nltk and https://anaconda.org/anaconda/scikit-learn"
   ]
  },
  {
   "cell_type": "code",
   "execution_count": 1,
   "metadata": {
    "id": "4-LutRMDjsL3"
   },
   "outputs": [],
   "source": [
    "import os.path as op\n",
    "import re\n",
    "import numpy as np\n",
    "import matplotlib.pyplot as plt"
   ]
  },
  {
   "cell_type": "code",
   "execution_count": 2,
   "metadata": {},
   "outputs": [
    {
     "name": "stdout",
     "output_type": "stream",
     "text": [
      "Collecting package metadata (current_repodata.json): | DEBUG:urllib3.connectionpool:Starting new HTTPS connection (1): conda.anaconda.org:443\n",
      "DEBUG:urllib3.connectionpool:Starting new HTTPS connection (1): conda.anaconda.org:443\n",
      "DEBUG:urllib3.connectionpool:Starting new HTTPS connection (1): repo.anaconda.com:443\n",
      "DEBUG:urllib3.connectionpool:Starting new HTTPS connection (1): repo.anaconda.com:443\n",
      "DEBUG:urllib3.connectionpool:Starting new HTTPS connection (1): repo.anaconda.com:443\n",
      "DEBUG:urllib3.connectionpool:Starting new HTTPS connection (1): repo.anaconda.com:443\n",
      "/ DEBUG:urllib3.connectionpool:https://repo.anaconda.com:443 \"GET /pkgs/main/noarch/current_repodata.json HTTP/1.1\" 304 0\n",
      "DEBUG:urllib3.connectionpool:https://repo.anaconda.com:443 \"GET /pkgs/r/noarch/current_repodata.json HTTP/1.1\" 304 0\n",
      "DEBUG:urllib3.connectionpool:https://repo.anaconda.com:443 \"GET /pkgs/r/osx-arm64/current_repodata.json HTTP/1.1\" 304 0\n",
      "DEBUG:urllib3.connectionpool:https://conda.anaconda.org:443 \"GET /anaconda/noarch/current_repodata.json HTTP/1.1\" 304 0\n",
      "- DEBUG:urllib3.connectionpool:https://conda.anaconda.org:443 \"GET /anaconda/osx-arm64/current_repodata.json HTTP/1.1\" 304 0\n",
      "DEBUG:urllib3.connectionpool:https://repo.anaconda.com:443 \"GET /pkgs/main/osx-arm64/current_repodata.json HTTP/1.1\" 304 0\n",
      "done\n",
      "Solving environment: done\n",
      "\n",
      "\n",
      "==> WARNING: A newer version of conda exists. <==\n",
      "  current version: 23.7.2\n",
      "  latest version: 23.11.0\n",
      "\n",
      "Please update conda by running\n",
      "\n",
      "    $ conda update -n base -c defaults conda\n",
      "\n",
      "Or to minimize the number of packages updated during conda update use\n",
      "\n",
      "     conda install conda=23.11.0\n",
      "\n",
      "\n",
      "\n",
      "# All requested packages already installed.\n",
      "\n",
      "\n",
      "Note: you may need to restart the kernel to use updated packages.\n"
     ]
    }
   ],
   "source": [
    "conda install -c anaconda scikit-learn"
   ]
  },
  {
   "cell_type": "code",
   "execution_count": 3,
   "metadata": {},
   "outputs": [
    {
     "name": "stdout",
     "output_type": "stream",
     "text": [
      "Collecting package metadata (current_repodata.json): done\n",
      "Solving environment: done\n",
      "\n",
      "\n",
      "==> WARNING: A newer version of conda exists. <==\n",
      "  current version: 23.7.2\n",
      "  latest version: 23.11.0\n",
      "\n",
      "Please update conda by running\n",
      "\n",
      "    $ conda update -n base -c defaults conda\n",
      "\n",
      "Or to minimize the number of packages updated during conda update use\n",
      "\n",
      "     conda install conda=23.11.0\n",
      "\n",
      "\n",
      "\n",
      "# All requested packages already installed.\n",
      "\n",
      "\n",
      "Note: you may need to restart the kernel to use updated packages.\n"
     ]
    }
   ],
   "source": [
    "conda install -c anaconda nltk"
   ]
  },
  {
   "cell_type": "markdown",
   "metadata": {
    "id": "iu6th-AyjsL4"
   },
   "source": [
    "## Pre-processing and representing documents\n",
    "\n",
    "### I.1 Adapted representation of documents\n",
    "\n",
    "Our statistical model, like most models applied to textual data, uses counts of word occurrences in a document. Thus, a very convenient way to represent a document is to use a Bag-of-Words (BoW) vector, containing the counts of each word (regardless of their order of occurrence) in the document.\n",
    "\n",
    "If we consider the set of all the words appearing in our $T$ training documents, which we note $V$ (Vocabulary), we can create **an index**, which is a bijection associating to each $w$ word an integer, which will be its position in $V$.\n",
    "\n",
    "Thus, for a document extracted from a set of documents containing $|V|$ different words, a BoW representation will be a vector of size $|V|$, whose value at the index of a word $w$ will be its number of occurrences in the document.\n",
    "\n",
    "We can use the **CountVectorizer** class from scikit-learn to obtain these representations:"
   ]
  },
  {
   "cell_type": "code",
   "execution_count": 4,
   "metadata": {
    "id": "uhaDtQzojsL4"
   },
   "outputs": [],
   "source": [
    "from sklearn.feature_extraction.text import CountVectorizer"
   ]
  },
  {
   "cell_type": "code",
   "execution_count": 5,
   "metadata": {
    "id": "KAL5-R2gjsL5",
    "outputId": "37c55def-3cdb-4322-9173-7feab1a561c8"
   },
   "outputs": [
    {
     "name": "stdout",
     "output_type": "stream",
     "text": [
      "['avenue' 'boulevard' 'city' 'down' 'ran' 'the' 'walk' 'walked']\n"
     ]
    },
    {
     "data": {
      "text/plain": [
       "array([[0, 1, 0, 2, 0, 1, 0, 1],\n",
       "       [1, 0, 0, 1, 0, 1, 0, 1],\n",
       "       [0, 1, 0, 1, 1, 1, 0, 0],\n",
       "       [0, 0, 1, 1, 0, 1, 1, 0],\n",
       "       [1, 0, 0, 1, 0, 2, 1, 0]])"
      ]
     },
     "execution_count": 5,
     "metadata": {},
     "output_type": "execute_result"
    }
   ],
   "source": [
    "corpus = ['I walked down down the boulevard',\n",
    "          'I walked down the avenue',\n",
    "          'I ran down the boulevard',\n",
    "          'I walk down the city',\n",
    "          'I walk down the the avenue']\n",
    "\n",
    "vectorizer = CountVectorizer()\n",
    "\n",
    "Bow = vectorizer.fit_transform(corpus)\n",
    "\n",
    "print(vectorizer.get_feature_names_out())\n",
    "Bow.toarray()"
   ]
  },
  {
   "cell_type": "markdown",
   "metadata": {
    "id": "9LviCnMtjsL5"
   },
   "source": [
    "We display the list containing the words ordered according to their index (Note that words of 2 characters or less are not counted)."
   ]
  },
  {
   "cell_type": "markdown",
   "metadata": {
    "id": "yTBd6Q3DjsL6"
   },
   "source": [
    "#### Getting BoW representations\n",
    "\n",
    "The first thing to do is to turn the review from a string into a list of words. The simplest method is to divide the string according to spaces with the command:\n",
    "``text.split()``\n",
    "\n",
    "But we must also be careful to remove special characters that may not have been cleaned up (such as HTML tags if the data was obtained from web pages). Since we're going to count words, we'll have to build a list of tokens appearing in our data. In our case, we'd like to reduce this list and make it uniform (ignore capitalization, punctuation, and the shortest words).\n",
    "We will therefore use a function adapted to our needs - but this is a job that we generally don't need to do ourselves, since there are many tools already adapted to most situations.\n",
    "For text cleansing, there are many scripts, based on different tools (regular expressions, for example) that allow you to prepare data. The division of the text into words and the management of punctuation is handled in a step called *tokenization*; if needed, a python package like NLTK contains many different *tokenizers*."
   ]
  },
  {
   "cell_type": "code",
   "execution_count": 6,
   "metadata": {},
   "outputs": [
    {
     "name": "stderr",
     "output_type": "stream",
     "text": [
      "[nltk_data] Downloading package punkt to /Users/lilyque/nltk_data...\n",
      "[nltk_data]   Package punkt is already up-to-date!\n"
     ]
    },
    {
     "data": {
      "text/plain": [
       "True"
      ]
     },
     "execution_count": 6,
     "metadata": {},
     "output_type": "execute_result"
    }
   ],
   "source": [
    "import nltk\n",
    "nltk.download('punkt')"
   ]
  },
  {
   "cell_type": "code",
   "execution_count": 7,
   "metadata": {
    "id": "X--SG-D5jsL6",
    "outputId": "c301d2b8-44c8-4214-9ec2-7e74798c4a01"
   },
   "outputs": [
    {
     "name": "stdout",
     "output_type": "stream",
     "text": [
      "['walked', 'down', 'down', 'the', 'boulevard', 'walked', 'down', 'the', 'avenue', 'ran', 'down', 'the', 'boulevard', 'walk', 'down', 'the', 'city', 'walk', 'down', 'the', 'the', 'avenue']\n",
      "['I', 'walked', 'down', 'down', 'the', 'boulevard', '.', 'I', 'walked', 'down', 'the', 'avenue', '.', 'I', 'ran', 'down', 'the', 'boulevard', '.', 'I', 'walk', 'down', 'the', 'city', '.', 'I', 'walk', 'down', 'the', 'the', 'avenue', '.']\n"
     ]
    }
   ],
   "source": [
    "# We might want to clean the file with various strategies:\n",
    "import re\n",
    "from nltk.tokenize import word_tokenize\n",
    "import nltk\n",
    "\n",
    "def clean_and_tokenize(text):\n",
    "    \"\"\"\n",
    "    Cleaning a document with:\n",
    "        - Lowercase\n",
    "        - Removing numbers with regular expressions\n",
    "        - Removing punctuation with regular expressions\n",
    "        - Removing other artifacts\n",
    "    And separate the document into words by simply splitting at spaces\n",
    "    Params:\n",
    "        text (string): a sentence or a document\n",
    "    Returns:\n",
    "        tokens (list of strings): the list of tokens (word units) forming the document\n",
    "    \"\"\"\n",
    "    # Lowercase\n",
    "    text = text.lower()\n",
    "    # Remove numbers\n",
    "    text = re.sub(r\"[0-9]+\", \"\", text)\n",
    "    # Remove punctuation\n",
    "    REMOVE_PUNCT = re.compile(\"[.;:!\\'?,\\\"()\\[\\]]\")\n",
    "    text = REMOVE_PUNCT.sub(\"\", text)\n",
    "    # Remove small words (1 and 2 characters)\n",
    "    text = re.sub(r\"\\b\\w{1,2}\\b\", \"\", text)\n",
    "    # Remove HTML artifacts specific to the corpus we're going to work with\n",
    "    REPLACE_HTML = re.compile(\"(<br\\s*/><br\\s*/>)|(\\-)|(\\/)\")\n",
    "    text = REPLACE_HTML.sub(\" \", text)\n",
    "\n",
    "    tokens = text.split()\n",
    "    return tokens\n",
    "\n",
    "# Or we might want to use an already-implemented tool. The NLTK package has a lot of very useful text processing tools, among them various tokenizers\n",
    "# Careful, NLTK was the first well-documented NLP package, but it might be outdated for some uses. Check the documentation !\n",
    "from nltk.tokenize import word_tokenize\n",
    "\n",
    "corpus_raw = \"I walked down down the boulevard. I walked down the avenue. I ran down the boulevard. I walk down the city. I walk down the the avenue.\"\n",
    "print(clean_and_tokenize(corpus_raw))\n",
    "print(word_tokenize(corpus_raw))"
   ]
  },
  {
   "cell_type": "markdown",
   "metadata": {
    "id": "qZukCdXXjsL6"
   },
   "source": [
    "The next function takes as input a list of documents (each in the form of a string) and returns, as in the example using ``CountVectorizer``:\n",
    "- A vocabulary that associates, to each word encountered, an index\n",
    "- A matrix, with rows representing documents and columns representing words indexed by the vocabulary. In position $(i,j)$, one should have the number of occurrences of the word $j$ in the document $i$.\n",
    "\n",
    "The vocabulary, which was in the form of a *list* in the previous example, can be returned in the form of a *dictionary* whose keys are the words and values are the indices. Since the vocabulary lists the words in the corpus without worrying about their number of occurrences, it can be built up using a set (in python)."
   ]
  },
  {
   "cell_type": "code",
   "execution_count": 8,
   "metadata": {
    "id": "e7MQG3lCjsL7"
   },
   "outputs": [],
   "source": [
    "def vocabulary(texts, count_threshold=1, voc_threshold=0):\n",
    "    \"\"\"\n",
    "    Function using word counts to build a vocabulary - can be improved with a second parameter for\n",
    "    setting a frequency threshold\n",
    "    Params:\n",
    "        corpus (list of list of strings): corpus of sentences\n",
    "        count_threshold (int): number of occurences necessary for a word to be included in the vocabulary\n",
    "        voc_threshold (int): maximum size of the vocabulary\n",
    "    Returns:\n",
    "        vocabulary (dictionary): keys: list of distinct words across the corpus\n",
    "                                 values: indexes corresponding to each word sorted by frequency\n",
    "    \"\"\"\n",
    "    word_counts = {}\n",
    "    for text in texts:\n",
    "        for word in text.split():  # Split text into words\n",
    "            if word in word_counts:\n",
    "                word_counts[word] += 1\n",
    "            else:\n",
    "                word_counts[word] = 1\n",
    "\n",
    "    filtered_word_counts = {word: count for word, count in word_counts.items() if count >= count_threshold}\n",
    "\n",
    "    words = sorted(filtered_word_counts.keys(), key=word_counts.get, reverse=True)\n",
    "    # We add a specific token to be able to represent new words when working on validation / testing !\n",
    "    if voc_threshold > 0:\n",
    "        words = words[:voc_threshold] + ['UNK']\n",
    "    else:\n",
    "        words = words + ['UNK']\n",
    "    vocabulary = {word: index for index, word in enumerate(words)}\n",
    "    return vocabulary, {word: filtered_word_counts.get(word, 0) for word in vocabulary}"
   ]
  },
  {
   "cell_type": "code",
   "execution_count": 9,
   "metadata": {
    "id": "H8r4E_YwjsL7",
    "outputId": "b94d5ec6-2654-486b-ff3e-fcd53fd9a98f"
   },
   "outputs": [
    {
     "name": "stdout",
     "output_type": "stream",
     "text": [
      "{'down': 0, 'the': 1, 'I': 2, 'walked': 3, 'boulevard': 4, 'avenue': 5, 'walk': 6, 'ran': 7, 'city': 8, 'UNK': 9}\n"
     ]
    }
   ],
   "source": [
    "voc, _ = vocabulary(corpus, count_threshold = 0)\n",
    "print(voc)"
   ]
  },
  {
   "cell_type": "code",
   "execution_count": 10,
   "metadata": {
    "id": "epQSom6qjsL7"
   },
   "outputs": [],
   "source": [
    "def count_words(texts, vocabulary):\n",
    "    # Initialize the matrix\n",
    "    n_samples = len(texts)\n",
    "    n_features = len(vocabulary)\n",
    "    counts=np.zeros((n_samples, n_features))\n",
    "    \n",
    "    print(n_features)\n",
    "    \n",
    "    #counts = [[0] * n_features for _ in range(n_samples)]\n",
    "    \n",
    "    for i in range(n_samples):  \n",
    "        for word in texts[i].split():  \n",
    "            if word in vocabulary:\n",
    "                word_index = vocabulary[word]\n",
    "                counts[i,word_index] += 1\n",
    "            else:\n",
    "                counts[i,vocabulary['UNK']]+=1\n",
    "                \n",
    "    return counts\n"
   ]
  },
  {
   "cell_type": "code",
   "execution_count": 11,
   "metadata": {
    "id": "31MgqfRpjsL7",
    "outputId": "6ed46506-effc-45d2-f7c9-8671a0540a08"
   },
   "outputs": [
    {
     "name": "stdout",
     "output_type": "stream",
     "text": [
      "10\n",
      "[[2. 1. 1. 1. 1. 0. 0. 0. 0. 0.]\n",
      " [1. 1. 1. 1. 0. 1. 0. 0. 0. 0.]\n",
      " [1. 1. 1. 0. 1. 0. 0. 1. 0. 0.]\n",
      " [1. 1. 1. 0. 0. 0. 1. 0. 1. 0.]\n",
      " [1. 2. 1. 0. 0. 1. 1. 0. 0. 0.]]\n"
     ]
    }
   ],
   "source": [
    "X = count_words(corpus, voc)\n",
    "print(X)"
   ]
  },
  {
   "cell_type": "markdown",
   "metadata": {
    "id": "EeXe8_7mjsL7"
   },
   "source": [
    "### I.2 Improving representations: by reweighting and filtering\n",
    "\n",
    "Mainly, the arguments of the class ```vectorizer``` will allow us to easily change the way our textual data is represented. Let us try to work on our *Bag-of-words* representations:\n",
    "   \n",
    "#### Do not take into account words that are too frequent:\n",
    "\n",
    "You can use the argument ```max_df=1.0``` to change the amount of words taken into account.\n",
    "\n",
    "#### Try different granularities:\n",
    "\n",
    "Rather than just counting words, we can count sequences of words - limited in size, of course.\n",
    "We call a sequence of $n$ words a $n$-gram: let's try using 2 and 3-grams (bi- and trigrams).\n",
    "We can also try to use character sequences instead of word sequences.\n",
    "\n",
    "We will be interested in the options ```analyze='word'``` and ```ngram_range=(1, 2)``` which we'll change to alter the granularity.\n",
    "\n",
    "**Again: using these ways of getting more features from our text will probably have more impact if we do not have much training data to begin with !**"
   ]
  },
  {
   "cell_type": "code",
   "execution_count": 12,
   "metadata": {
    "id": "tyA1-5EZjsL7",
    "outputId": "70892b06-0ccc-4ed5-e914-dcf8dd909fad"
   },
   "outputs": [
    {
     "name": "stdout",
     "output_type": "stream",
     "text": [
      "['down down' 'down down the' 'down the' 'down the avenue'\n",
      " 'down the boulevard' 'down the city' 'down the the' 'ran down'\n",
      " 'ran down the' 'the avenue' 'the boulevard' 'the city' 'the the'\n",
      " 'the the avenue' 'walk down' 'walk down the' 'walked down'\n",
      " 'walked down down' 'walked down the']\n"
     ]
    },
    {
     "data": {
      "text/plain": [
       "array([[1, 1, 1, 0, 1, 0, 0, 0, 0, 0, 1, 0, 0, 0, 0, 0, 1, 1, 0],\n",
       "       [0, 0, 1, 1, 0, 0, 0, 0, 0, 1, 0, 0, 0, 0, 0, 0, 1, 0, 1],\n",
       "       [0, 0, 1, 0, 1, 0, 0, 1, 1, 0, 1, 0, 0, 0, 0, 0, 0, 0, 0],\n",
       "       [0, 0, 1, 0, 0, 1, 0, 0, 0, 0, 0, 1, 0, 0, 1, 1, 0, 0, 0],\n",
       "       [0, 0, 1, 0, 0, 0, 1, 0, 0, 1, 0, 0, 1, 1, 1, 1, 0, 0, 0]])"
      ]
     },
     "execution_count": 12,
     "metadata": {},
     "output_type": "execute_result"
    }
   ],
   "source": [
    "# Example\n",
    "vectorizer_ex = CountVectorizer(max_features=30000, analyzer='word', ngram_range=(2, 3), stop_words=None)\n",
    "Bow_ex = vectorizer_ex.fit_transform(corpus)\n",
    "print(vectorizer_ex.get_feature_names_out())\n",
    "Bow_ex.toarray()"
   ]
  },
  {
   "cell_type": "markdown",
   "metadata": {
    "id": "yOGlrFWBjsL7"
   },
   "source": [
    "#### Tf-idf:\n",
    "\n",
    "This is the product of the frequency of the term (TF) and its inverse frequency in documents (IDF).\n",
    "This method is usually used to measure the importance of a term $i$ in a document $j$ relative to the rest of the corpus, from a matrix of occurrences $ words \\times documents$. Thus, for a matrix $\\mathbf{T}$ of $|V|$ terms and $D$ documents:\n",
    "$$\\text{TF}(T, w, d) = \\frac{T_{w,d}}{\\sum_{w'=1}^{|V|} T_{w',d}} $$\n",
    "\n",
    "$$\\text{IDF}(T, w) = \\log\\left(\\frac{D}{|\\{d : T_{w,d} > 0\\}|}\\right)$$\n",
    "\n",
    "$$\\text{TF-IDF}(T, w, d) = \\text{TF}(X, w, d) \\cdot \\text{IDF}(T, w)$$\n",
    "\n",
    "It can be adapted to our case by considering that the context of the second word is the document. However, TF-IDF is generally better suited to low-density matrices, since it will penalize terms that appear in a large part of the documents."
   ]
  },
  {
   "cell_type": "code",
   "execution_count": 13,
   "metadata": {
    "id": "mk7wNn2ojsL8"
   },
   "outputs": [],
   "source": [
    "from sklearn.preprocessing import normalize\n",
    "\n",
    "def tfidf(bow):\n",
    "    \"\"\"\n",
    "    Inverse document frequencies applied to our bag-of-words representations\n",
    "    \"\"\"\n",
    "    # IDF\n",
    "    d = float(bow.shape[0]) + 1.0\n",
    "    in_doc = bow.astype(bool).sum(axis=0) + 1.0\n",
    "    idfs = np.log(d / in_doc) + 1.0\n",
    "    # TF\n",
    "    sum_vec = bow.sum(axis=1)\n",
    "    tfs = bow / np.expand_dims(sum_vec + 1.0, axis=1)\n",
    "    tf_idf = tfs * np.expand_dims(idfs,axis=0)\n",
    "    return tf_idf"
   ]
  },
  {
   "cell_type": "code",
   "execution_count": 14,
   "metadata": {
    "id": "reYY9mJnjsL8",
    "outputId": "7f155e66-04a2-4983-f94e-46b45f337ad3"
   },
   "outputs": [
    {
     "name": "stdout",
     "output_type": "stream",
     "text": [
      "[[0.         0.2821912  0.         0.33333333 0.         0.16666667\n",
      "  0.         0.2821912 ]\n",
      " [0.33862944 0.         0.         0.2        0.         0.2\n",
      "  0.         0.33862944]\n",
      " [0.         0.33862944 0.         0.2        0.41972246 0.2\n",
      "  0.         0.        ]\n",
      " [0.         0.         0.41972246 0.2        0.         0.2\n",
      "  0.33862944 0.        ]\n",
      " [0.2821912  0.         0.         0.16666667 0.         0.33333333\n",
      "  0.2821912  0.        ]]\n"
     ]
    }
   ],
   "source": [
    "print(tfidf(Bow.toarray()))"
   ]
  },
  {
   "cell_type": "code",
   "execution_count": 15,
   "metadata": {
    "id": "9fIGMjl5jsL8"
   },
   "outputs": [],
   "source": [
    "from sklearn.feature_extraction.text import TfidfTransformer"
   ]
  },
  {
   "cell_type": "code",
   "execution_count": 16,
   "metadata": {
    "id": "nsRlA40jjsL8",
    "outputId": "9b929665-33dc-4f9c-db62-07a6ad26eebf"
   },
   "outputs": [
    {
     "name": "stdout",
     "output_type": "stream",
     "text": [
      "['avenue' 'boulevard' 'city' 'down' 'ran' 'the' 'walk' 'walked']\n"
     ]
    },
    {
     "data": {
      "text/plain": [
       "array([[0.        , 0.51680194, 0.        , 0.61046311, 0.        ,\n",
       "        0.30523155, 0.        , 0.51680194],\n",
       "       [0.6088451 , 0.        , 0.        , 0.35959372, 0.        ,\n",
       "        0.35959372, 0.        , 0.6088451 ],\n",
       "       [0.        , 0.55607488, 0.        , 0.32842678, 0.68924048,\n",
       "        0.32842678, 0.        , 0.        ],\n",
       "       [0.        , 0.        , 0.68924048, 0.32842678, 0.        ,\n",
       "        0.32842678, 0.55607488, 0.        ],\n",
       "       [0.51680194, 0.        , 0.        , 0.30523155, 0.        ,\n",
       "        0.61046311, 0.51680194, 0.        ]])"
      ]
     },
     "execution_count": 16,
     "metadata": {},
     "output_type": "execute_result"
    }
   ],
   "source": [
    "tfidfer = TfidfTransformer()\n",
    "TfIdfBow = tfidfer.fit_transform(Bow)\n",
    "print(vectorizer.get_feature_names_out())\n",
    "TfIdfBow.toarray()"
   ]
  },
  {
   "cell_type": "markdown",
   "metadata": {
    "id": "AMKBfDQ9jsL8"
   },
   "source": [
    "## II IMDB Data - Sentiment on movie reviews\n",
    "\n",
    "You can download the dataset from this address: http://ai.stanford.edu/~amaas/data/sentiment/aclImdb_v1.tar.gz\n",
    "\n",
    "### Loading data\n",
    "\n",
    "We retrieve the textual data in the variable *texts*.\n",
    "\n",
    "The labels are retrieved in the variable $y$ - it contains *len(texts)* of them: $0$ indicates that the corresponding review is negative while $1$ indicates that it is positive."
   ]
  },
  {
   "cell_type": "code",
   "execution_count": 17,
   "metadata": {
    "id": "SomIRXinjsL8"
   },
   "outputs": [],
   "source": [
    "from glob import glob\n",
    "# We get the files from the path: ./aclImdb/train/neg for negative reviews, and ./aclImdb/train/pos for positive reviews\n",
    "\n",
    "#I made a variable called 'dataset' for my file path\n",
    "dataset='/Users/lilyque/Desktop/AI-Labs'\n",
    "train_filenames_neg = sorted(glob(op.join(dataset, 'aclImdb', 'train', 'neg', '*.txt')))\n",
    "train_filenames_pos = sorted(glob(op.join(dataset, 'aclImdb', 'train', 'pos', '*.txt')))\n",
    "\n",
    "# Each files contains a review that consists in one line of text: we put this string in two lists, that we concatenate\n",
    "train_texts_neg = [open(f, encoding=\"utf8\").read() for f in train_filenames_neg]\n",
    "train_texts_pos = [open(f, encoding=\"utf8\").read() for f in train_filenames_pos]\n",
    "train_texts = train_texts_neg + train_texts_pos\n"
   ]
  },
  {
   "cell_type": "code",
   "execution_count": 18,
   "metadata": {},
   "outputs": [
    {
     "name": "stdout",
     "output_type": "stream",
     "text": [
      "Contents of the directory: ['.DS_Store', 'imdbEr.txt', 'test', 'imdb.vocab', 'README', 'train']\n"
     ]
    }
   ],
   "source": [
    "#I was having some difficulty with my file path so I wrote this block just to see the contents of my code \n",
    "#within my jupyter notebook\n",
    "\n",
    "import os\n",
    "dataset_path = '/Users/lilyque/Desktop/AI-Labs/aclImdb'\n",
    "\n",
    "# List all the files and directories in the specified path\n",
    "contents = os.listdir(dataset_path)\n",
    "\n",
    "# Print the list of contents\n",
    "print(\"Contents of the directory:\", contents)"
   ]
  },
  {
   "cell_type": "code",
   "execution_count": 19,
   "metadata": {
    "id": "fBsm27bajsL8",
    "outputId": "4a9ff68c-a84e-4cdb-d761-56da35d0c388",
    "scrolled": true
   },
   "outputs": [
    {
     "data": {
      "text/plain": [
       "\"Story of a man who has unnatural feelings for a pig. Starts out with a opening scene that is a terrific example of absurd comedy. A formal orchestra audience is turned into an insane, violent mob by the crazy chantings of it's singers. Unfortunately it stays absurd the WHOLE time with no general narrative eventually making it just too off putting. Even those from the era should be turned off. The cryptic dialogue would make Shakespeare seem easy to a third grader. On a technical level it's better than you might think with some good cinematography by future great Vilmos Zsigmond. Future stars Sally Kirkland and Frederic Forrest can be seen briefly.\""
      ]
     },
     "execution_count": 19,
     "metadata": {},
     "output_type": "execute_result"
    }
   ],
   "source": [
    "open(\"./aclImdb/train/neg/0_3.txt\", encoding=\"utf8\").read()"
   ]
  },
  {
   "cell_type": "code",
   "execution_count": 20,
   "metadata": {
    "id": "xdT7nYNyjsL8",
    "outputId": "62b28fd3-780f-4ef3-f296-c9d6f2f3752c"
   },
   "outputs": [
    {
     "name": "stdout",
     "output_type": "stream",
     "text": [
      "Number of documents: 2500\n"
     ]
    }
   ],
   "source": [
    "# This number of documents may be high for most computers: we can select a fraction of them (here, one in k)\n",
    "# Use an even number to keep the same number of positive and negative reviews\n",
    "k = 10\n",
    "train_texts_reduced = train_texts[0::k]\n",
    "\n",
    "print('Number of documents:', len(train_texts_reduced))"
   ]
  },
  {
   "cell_type": "markdown",
   "metadata": {
    "id": "mk4UbBX8jsL8"
   },
   "source": [
    "**When training a machine learning model**, we can use a function from ```sklearn```, ```train_test_split```, to separate data into training and validation sets:"
   ]
  },
  {
   "cell_type": "code",
   "execution_count": null,
   "metadata": {
    "id": "yD_cEMxpjsL8"
   },
   "outputs": [],
   "source": []
  },
  {
   "cell_type": "code",
   "execution_count": 21,
   "metadata": {
    "id": "plnd_Gv7jsL8"
   },
   "outputs": [],
   "source": [
    "from sklearn.model_selection import train_test_split\n",
    "\n",
    "#'labels' is a list that represents the labels for the dataset. \n",
    "# It assigns the label 0 to each element in train_texts_neg (negative reviews) and \n",
    "# the label 1 to each element in train_texts_pos (positive reviews). \n",
    "\n",
    "labels = [0] * len(train_texts_neg) + [1] * len(train_texts_pos)\n",
    "\n",
    "#train_texts: The input data, which is a list of text samples (reviews in this case).\n",
    "#labels: The corresponding labels for each sample.\n",
    "#test_size=0.2: 20% of data- for validation, and the remaining 80% - for training.\n",
    "\n",
    "#X_train= training data\n",
    "#X_val= validation data\n",
    "#y_train= training label\n",
    "#y_val= validation label \n",
    "\n",
    "X_train, X_val, y_train, y_val = train_test_split(train_texts, labels, test_size=0.2, random_state=42)\n"
   ]
  },
  {
   "cell_type": "markdown",
   "metadata": {
    "id": "kzUUzJCOjsL8"
   },
   "source": [
    "Use your function ```count_words``` to transform training and validation data into vectors. Do the same with a ```CountVectorizer```: create and fit the vectorizer to the training data, re-use it on validation data."
   ]
  },
  {
   "cell_type": "code",
   "execution_count": 22,
   "metadata": {
    "id": "QaHVGNOwjsL8"
   },
   "outputs": [
    {
     "name": "stdout",
     "output_type": "stream",
     "text": [
      "10\n",
      "10\n"
     ]
    }
   ],
   "source": [
    "#count_words\n",
    "X_train_count_words = count_words(X_train, voc)\n",
    "X_val_count_words = count_words(X_val, voc)\n",
    "\n"
   ]
  },
  {
   "cell_type": "code",
   "execution_count": 23,
   "metadata": {
    "id": "_dRfclfNjsL8"
   },
   "outputs": [
    {
     "name": "stdout",
     "output_type": "stream",
     "text": [
      "['00' '000' '0000000000001' ... 'ís' 'ísnt' 'über']\n"
     ]
    },
    {
     "data": {
      "text/plain": [
       "array([[0, 0, 0, ..., 0, 0, 0],\n",
       "       [0, 0, 0, ..., 0, 0, 0],\n",
       "       [0, 0, 0, ..., 0, 0, 0],\n",
       "       ...,\n",
       "       [0, 0, 0, ..., 0, 0, 0],\n",
       "       [0, 0, 0, ..., 0, 0, 0],\n",
       "       [0, 0, 0, ..., 0, 0, 0]])"
      ]
     },
     "execution_count": 23,
     "metadata": {},
     "output_type": "execute_result"
    }
   ],
   "source": [
    "#CountVectorizer\n",
    "from sklearn.feature_extraction.text import CountVectorizer\n",
    "\n",
    "\n",
    "'''\n",
    "This is just for reference so I understand how to use CountVectorizer\n",
    "corpus = ['I walked down down the boulevard',\n",
    "          'I walked down the avenue',\n",
    "          'I ran down the boulevard',\n",
    "          'I walk down the city',\n",
    "          'I walk down the the avenue']\n",
    "\n",
    "vectorizer = CountVectorizer()\n",
    "\n",
    "Bow = vectorizer.fit_transform(corpus)\n",
    "\n",
    "print(vectorizer.get_feature_names_out())\n",
    "Bow.toarray()\n",
    "'''\n",
    "\n",
    "\n",
    "vectorizer = CountVectorizer()\n",
    "\n",
    "#use the training data sets \n",
    "X_train_count_vectorizer = vectorizer.fit_transform(X_train)\n",
    "\n",
    "# \n",
    "X_val_count_vectorizer = vectorizer.transform(X_val)\n",
    "\n",
    "print(vectorizer.get_feature_names_out())\n",
    "X_train_count_vectorizer.toarray()"
   ]
  },
  {
   "cell_type": "markdown",
   "metadata": {
    "id": "nQ9bl5d9jsL8"
   },
   "source": [
    "We are going to use the scikit-learn ```MultinomialNB```, an implementation of the Naive Bayesian model. Experiment on this model with your own representations. Visualize the results with the following tools, and compare with the representations of ```CountVectorizer```:"
   ]
  },
  {
   "cell_type": "code",
   "execution_count": 24,
   "metadata": {
    "id": "FqmbkpwajsL8"
   },
   "outputs": [
    {
     "name": "stdout",
     "output_type": "stream",
     "text": [
      "Classification Report for count_words:\n",
      "\n",
      "              precision    recall  f1-score   support\n",
      "\n",
      "           0       0.54      0.47      0.50      2515\n",
      "           1       0.52      0.58      0.55      2485\n",
      "\n",
      "    accuracy                           0.53      5000\n",
      "   macro avg       0.53      0.53      0.53      5000\n",
      "weighted avg       0.53      0.53      0.53      5000\n",
      "\n",
      "\n",
      "Classification Report for CountVectorizer representation:\n",
      "              precision    recall  f1-score   support\n",
      "\n",
      "           0       0.83      0.88      0.85      2515\n",
      "           1       0.87      0.82      0.84      2485\n",
      "\n",
      "    accuracy                           0.85      5000\n",
      "   macro avg       0.85      0.85      0.85      5000\n",
      "weighted avg       0.85      0.85      0.85      5000\n",
      "\n"
     ]
    },
    {
     "data": {
      "image/png": "[encoded data removed]",
      "text/plain": [
       "<Figure size 640x480 with 2 Axes>"
      ]
     },
     "metadata": {},
     "output_type": "display_data"
    },
    {
     "data": {
      "image/png": "[encoded data removed]",
      "text/plain": [
       "<Figure size 640x480 with 2 Axes>"
      ]
     },
     "metadata": {},
     "output_type": "display_data"
    }
   ],
   "source": [
    "from sklearn.naive_bayes import MultinomialNB\n",
    "from sklearn.metrics import confusion_matrix, ConfusionMatrixDisplay, classification_report\n",
    "\n",
    "#COUNT WORDS REPRESENTATIONS\n",
    "nb_count_words = MultinomialNB()\n",
    "nb_count_words.fit(X_train_count_words, y_train)\n",
    "\n",
    "y_pred_count_words = nb_count_words.predict(X_val_count_words)\n",
    "\n",
    "\n",
    "#This is the visual representation of the data\n",
    "cm_count_words = confusion_matrix(y_val, y_pred_count_words, labels=[0, 1])\n",
    "disp_count_words = ConfusionMatrixDisplay(confusion_matrix=cm_count_words, display_labels=['Negative', 'Positive'])\n",
    "disp_count_words.plot(cmap='Reds')\n",
    "print(\"Classification Report for count_words:\")\n",
    "print()\n",
    "print(classification_report(y_val, y_pred_count_words))\n",
    "\n",
    "\n",
    "#COUNT VECTORIZER REPRESENTATIONS\n",
    "nb_count_vectorizer = MultinomialNB()\n",
    "nb_count_vectorizer.fit(X_train_count_vectorizer, y_train)\n",
    "\n",
    "\n",
    "y_pred_count_vectorizer = nb_count_vectorizer.predict(X_val_count_vectorizer)\n",
    "\n",
    "\n",
    "# Test it on the validation data\n",
    "cm_count_vectorizer = confusion_matrix(y_val, y_pred_count_vectorizer, labels=[0, 1])\n",
    "disp_count_vectorizer = ConfusionMatrixDisplay(confusion_matrix=cm_count_vectorizer, display_labels=['Negative', 'Positive'])\n",
    "disp_count_vectorizer.plot(cmap='Blues')\n",
    "print(\"\\nClassification Report for CountVectorizer representation:\")\n",
    "print(classification_report(y_val, y_pred_count_vectorizer))\n"
   ]
  },
  {
   "cell_type": "markdown",
   "metadata": {
    "id": "IPfGRDdWjsL9"
   },
   "source": [
    "- Here, what is the naïve hypothesis ?\n",
    "Answer: The naïve hypothesis says that when the classifier is deciding whether a review is positive or negative, it treats each word independently. It assumes that the presence or absence of one word doesn't really depend on the presence or absence of any other word in the review. This means that the classifier doesn't consider how words might be related to each other within a review. I feel like I can foresee problems with this if a sentence includes the word \"but\". \"The movie was good, but the main character was terrible.\" \"Good\" and \"terrible\" are processed independently even though they are dependent on the words \"movie\" and \"character\" but I should assume in this example that the movie reviews only pertain to the movie itself- not so much specifics. \n",
    "\n",
    "- Let us look at the *features* built by the ```vectorizer```. How can we improve them ?\n",
    "Vectorizer picks up word count so you can see the most common words. However, it's important to understand the uniqueness of the words and how informative they really are. \n",
    "We also need to account for different letter cases so having clean text is important. We should start off with normalizing the dataset because vectorizer on it's own does not do that. "
   ]
  },
  {
   "cell_type": "markdown",
   "metadata": {
    "id": "T9Z3yq4sjsL9"
   },
   "source": [
    "Finally, re-do the experiments with the **tf-idf** representations !"
   ]
  },
  {
   "cell_type": "code",
   "execution_count": null,
   "metadata": {},
   "outputs": [],
   "source": [
    "\n"
   ]
  },
  {
   "cell_type": "code",
   "execution_count": 33,
   "metadata": {
    "id": "aLBFX34kjsL9"
   },
   "outputs": [
    {
     "name": "stdout",
     "output_type": "stream",
     "text": [
      "Confusion Matrix (TF-IDF):\n",
      "[[2212  303]\n",
      " [ 404 2081]]\n",
      "Classification Report for TF-IDF representation:\n",
      "              precision    recall  f1-score   support\n",
      "\n",
      "           0       0.85      0.88      0.86      2515\n",
      "           1       0.87      0.84      0.85      2485\n",
      "\n",
      "    accuracy                           0.86      5000\n",
      "   macro avg       0.86      0.86      0.86      5000\n",
      "weighted avg       0.86      0.86      0.86      5000\n",
      "\n"
     ]
    },
    {
     "data": {
      "image/png": "[encoded data removed]",
      "text/plain": [
       "<Figure size 640x480 with 2 Axes>"
      ]
     },
     "metadata": {},
     "output_type": "display_data"
    },
    {
     "data": {
      "image/png": "[encoded data removed]",
      "text/plain": [
       "<Figure size 640x480 with 2 Axes>"
      ]
     },
     "metadata": {},
     "output_type": "display_data"
    }
   ],
   "source": [
    "from sklearn.feature_extraction.text import TfidfTransformer\n",
    "'''\n",
    "Reference to the code above\n",
    "tfidfer = TfidfTransformer()\n",
    "TfIdfBow = tfidfer.fit_transform(Bow)\n",
    "print(vectorizer.get_feature_names_out())\n",
    "TfIdfBow.toarray()\n",
    "'''\n",
    "\n",
    "#I used the TfidfTransformer following your example above\n",
    "tfidf_transformer = TfidfTransformer() # Initialize TF-IDF Vectorizer\n",
    "X_train_tfidf = tfidf_transformer.fit_transform(X_train_count_vectorizer)\n",
    "X_val_tfidf = tfidf_transformer.transform(X_val_count_vectorizer)\n",
    "\n",
    "\n",
    "# Multinomial Naive Bayes model\n",
    "nb_model_tfidf = MultinomialNB()\n",
    "nb_model_tfidf.fit(X_train_tfidf, y_train)\n",
    "\n",
    "\n",
    "y_pred_tfidf = nb_model_tfidf.predict(X_val_tfidf)\n",
    "\n",
    "\n",
    "# Visualize results\n",
    "conf_matrix_tfidf = confusion_matrix(y_val, y_pred_tfidf)\n",
    "print(\"Confusion Matrix (TF-IDF):\")\n",
    "print(conf_matrix_tfidf)\n",
    "\n",
    "disp_tfidf = ConfusionMatrixDisplay(confusion_matrix=conf_matrix_tfidf, display_labels=['Negative', 'Positive'])\n",
    "disp_tfidf.plot()\n",
    "\n",
    "\n",
    "#Table\n",
    "disp_tfidf.plot(cmap='Greens') #for the visual so I can actually read the numbers.\n",
    "print(\"Classification Report for TF-IDF representation:\")\n",
    "print(classification_report(y_val, y_pred_tfidf, zero_division=1))\n"
   ]
  },
  {
   "cell_type": "code",
   "execution_count": null,
   "metadata": {},
   "outputs": [],
   "source": []
  }
 ],
 "metadata": {
  "anaconda-cloud": {},
  "colab": {
   "provenance": []
  },
  "kernelspec": {
   "display_name": "Python 3 (ipykernel)",
   "language": "python",
   "name": "python3"
  },
  "language_info": {
   "codemirror_mode": {
    "name": "ipython",
    "version": 3
   },
   "file_extension": ".py",
   "mimetype": "text/x-python",
   "name": "python",
   "nbconvert_exporter": "python",
   "pygments_lexer": "ipython3",
   "version": "3.11.4"
  }
 },
 "nbformat": 4,
 "nbformat_minor": 1
}
