{
 "cells": [
  {
   "cell_type": "markdown",
   "id": "4d6b8c8b",
   "metadata": {},
   "source": [
    "* * *\n",
    "<pre> NYU Paris            <i> Artificial intelligence - Fall 2023 </i></pre>\n",
    "* * *\n",
    "\n",
    "\n",
    "<h1 align=\"center\"> Lab 10: Unsupervised learning (II) - K-means clustering </h1>\n",
    "\n",
    "<pre align=\"left\"> November 9th 2023             <i> Author: Hicham Janati </i></pre>\n",
    "* * *\n",
    "\n",
    "\n",
    "##### Goals:\n",
    "- More practice with numpy and matplotlib\n",
    "- Understand the pros and cons of K-means clustering"
   ]
  },
  {
   "cell_type": "code",
   "execution_count": 1,
   "id": "7d064306",
   "metadata": {},
   "outputs": [],
   "source": [
    "import numpy as np\n",
    "import matplotlib.pyplot as plt\n",
    "from matplotlib import cm\n",
    "\n",
    "seed = 42"
   ]
  },
  {
   "cell_type": "markdown",
   "id": "ccd5d97e",
   "metadata": {},
   "source": [
    "# Part 1: Implementing K-means\n",
    "\n",
    "In the past labs, we have mainly seen:\n",
    "- dimension reduction (with PCA)\n",
    "- classification (i.e supervised learning)\n",
    "\n",
    "In practice however, the vast majority of data does not have labels. Finding structure and patterns in data without labels is called unsupervised learning. Given a specified number of clusters K, the K-means algorithm forms a partition of your data with K different groups while trying to:\n",
    "- minimize the variance within groups (i.e samples forming a group must be close to each other)\n",
    "- maximize the variance between groups (i.e groups must be far from each other)."
   ]
  },
  {
   "cell_type": "code",
   "execution_count": 2,
   "id": "d957f78b",
   "metadata": {},
   "outputs": [
    {
     "data": {
      "image/png": "[encoded data removed]",
      "text/plain": [
       "<Figure size 640x480 with 1 Axes>"
      ]
     },
     "metadata": {},
     "output_type": "display_data"
    }
   ],
   "source": [
    "from sklearn.datasets import make_blobs\n",
    "\n",
    "X, _ = make_blobs(500, centers=3, n_features=2, cluster_std=1., random_state=seed)\n",
    "\n",
    "plt.figure()\n",
    "plt.grid()\n",
    "plt.scatter(X[:, 0], X[:, 1])\n",
    "plt.show()\n"
   ]
  },
  {
   "cell_type": "markdown",
   "id": "a35d5b94",
   "metadata": {},
   "source": [
    "It is called K-means because it only consists of two steps. Starting from an initialization of K mean values $C_k$:\n",
    "- For each sample $x$ of your data, find the mean (centroid) $C_k$ that is closest to x. Assign $x$ to group $k$.\n",
    "- Update the mean $C_k$ of each group k\n",
    "\n",
    "### Question 1\n",
    "Write a function that generates K random initializations for the group centroids $C_k$. "
   ]
  },
  {
   "cell_type": "code",
   "execution_count": 3,
   "id": "432d17ad",
   "metadata": {},
   "outputs": [],
   "source": [
    "def init_centroids(K, dimension=2, seed=None):\n",
    "    \n",
    "    np.random.seed(seed)\n",
    "\n",
    "    centroids = rng.choice\n",
    "    \n",
    "    return centroids"
   ]
  },
  {
   "cell_type": "markdown",
   "id": "40c1ff75",
   "metadata": {},
   "source": [
    "### Question 2\n",
    "Write a function that takes the data X (n, d) and returns an array (n,) containing the id of the cluster it should be assigned to. For example, the function returns [0, 0, 2, 1, 2] if the first two samples are assigned to cluster 0, the 3rd and 5th samples to cluster 2 and the 4th sample to cluster 1. \n",
    "\n",
    "_Hint: look up `sklearn.metrics.pairwise_distances` and the numpy method of an array `array.argmin`_"
   ]
  },
  {
   "cell_type": "code",
   "execution_count": 4,
   "id": "bd07bdf1",
   "metadata": {},
   "outputs": [],
   "source": [
    "def assign_labels(X, centroids):\n",
    "    labels = []\n",
    "    for x in X:\n",
    "        min_dist=float('inf')\n",
    "        label=0\n",
    "        for ii, c in enumerate(centroids):\n",
    "            d=np.linalg.norm(c-x)\n",
    "            if d<min_dist:\n",
    "                min_dist=d\n",
    "                label=ii\n",
    "            labels.append(label)\n",
    "        labels=np.array(labels)\n",
    "    return labels"
   ]
  },
  {
   "cell_type": "code",
   "execution_count": null,
   "id": "abd8866b",
   "metadata": {},
   "outputs": [],
   "source": [
    "from sklearn.metrics import pairwise_distances\n",
    "def assign_labels(X, centroids):\n",
    "    D=pairwise_distances(X, centroids)\n",
    "    labels=np.argmin(D, axis=1)\n",
    "    return labels"
   ]
  },
  {
   "cell_type": "code",
   "execution_count": 5,
   "id": "4f4fac5d",
   "metadata": {},
   "outputs": [
    {
     "ename": "NameError",
     "evalue": "name 'assign_labels_loop' is not defined",
     "output_type": "error",
     "traceback": [
      "\u001b[0;31m---------------------------------------------------------------------------\u001b[0m",
      "\u001b[0;31mNameError\u001b[0m                                 Traceback (most recent call last)",
      "Cell \u001b[0;32mIn[5], line 1\u001b[0m\n\u001b[0;32m----> 1\u001b[0m assign_labels_loop(X, centroids)\n",
      "\u001b[0;31mNameError\u001b[0m: name 'assign_labels_loop' is not defined"
     ]
    }
   ],
   "source": [
    "labels_loop=assign_labels_loop(X, centroids)"
   ]
  },
  {
   "cell_type": "code",
   "execution_count": null,
   "id": "6bb7e4d6",
   "metadata": {},
   "outputs": [],
   "source": []
  },
  {
   "cell_type": "markdown",
   "id": "1c588d61",
   "metadata": {},
   "source": [
    "### Question 3\n",
    "The following cell visualizes the centroids and their assigned samples. Initialize the centroids and compute a first set of labels of your data and visualize them. Can you think of a smarter way to initialize these centroids using the data ? (No need to implement it for now)."
   ]
  },
  {
   "cell_type": "code",
   "execution_count": null,
   "id": "078fc25f",
   "metadata": {},
   "outputs": [],
   "source": [
    "def plot_kmeans(X, labels, centroids):\n",
    "    K = len(centroids)\n",
    "    colors = np.array(cm.Set1(np.linspace(0., 1, K)))\n",
    "    plt.figure()\n",
    "    plt.grid()\n",
    "    plt.scatter(X[:, 0], X[:, 1], color=colors[labels], s=4, alpha=0.3)\n",
    "    plt.scatter(centroids[:, 0], centroids[:, 1], color=colors, marker=\"^\", s=100)\n",
    "    plt.show()\n"
   ]
  },
  {
   "cell_type": "code",
   "execution_count": 6,
   "id": "8169bff3",
   "metadata": {},
   "outputs": [
    {
     "ename": "TypeError",
     "evalue": "only integer scalar arrays can be converted to a scalar index",
     "output_type": "error",
     "traceback": [
      "\u001b[0;31m---------------------------------------------------------------------------\u001b[0m",
      "\u001b[0;31mTypeError\u001b[0m                                 Traceback (most recent call last)",
      "Cell \u001b[0;32mIn[6], line 2\u001b[0m\n\u001b[1;32m      1\u001b[0m X, _ \u001b[38;5;241m=\u001b[39m make_blobs(\u001b[38;5;241m500\u001b[39m, centers\u001b[38;5;241m=\u001b[39m\u001b[38;5;241m3\u001b[39m, n_features\u001b[38;5;241m=\u001b[39m\u001b[38;5;241m2\u001b[39m, cluster_std\u001b[38;5;241m=\u001b[39m\u001b[38;5;241m3\u001b[39m, random_state\u001b[38;5;241m=\u001b[39mseed)\n\u001b[0;32m----> 2\u001b[0m centroids\u001b[38;5;241m=\u001b[39minit_centroids(\u001b[38;5;241m3\u001b[39m,X)\n\u001b[1;32m      3\u001b[0m labels\u001b[38;5;241m=\u001b[39massign_labels(X, centroids)\n\u001b[1;32m      4\u001b[0m plot_kmeans(X, labels, centroids)\n",
      "Cell \u001b[0;32mIn[3], line 6\u001b[0m, in \u001b[0;36minit_centroids\u001b[0;34m(K, dimension, seed)\u001b[0m\n\u001b[1;32m      3\u001b[0m \u001b[38;5;28;01mif\u001b[39;00m seed \u001b[38;5;129;01mis\u001b[39;00m \u001b[38;5;129;01mnot\u001b[39;00m \u001b[38;5;28;01mNone\u001b[39;00m:\n\u001b[1;32m      4\u001b[0m     np\u001b[38;5;241m.\u001b[39mrandom\u001b[38;5;241m.\u001b[39mseed(seed)\n\u001b[0;32m----> 6\u001b[0m centroids \u001b[38;5;241m=\u001b[39m np\u001b[38;5;241m.\u001b[39mrandom\u001b[38;5;241m.\u001b[39mrand(K, dimension)\n\u001b[1;32m      8\u001b[0m \u001b[38;5;28;01mreturn\u001b[39;00m centroids\n",
      "File \u001b[0;32mmtrand.pyx:1202\u001b[0m, in \u001b[0;36mnumpy.random.mtrand.RandomState.rand\u001b[0;34m()\u001b[0m\n",
      "File \u001b[0;32mmtrand.pyx:436\u001b[0m, in \u001b[0;36mnumpy.random.mtrand.RandomState.random_sample\u001b[0;34m()\u001b[0m\n",
      "File \u001b[0;32m_common.pyx:307\u001b[0m, in \u001b[0;36mnumpy.random._common.double_fill\u001b[0;34m()\u001b[0m\n",
      "\u001b[0;31mTypeError\u001b[0m: only integer scalar arrays can be converted to a scalar index"
     ]
    }
   ],
   "source": [
    "X, _ = make_blobs(500, centers=3, n_features=2, cluster_std=3, random_state=seed)\n",
    "centroids=init_centroids(3,X)\n",
    "labels=assign_labels(X, centroids)\n",
    "plot_kmeans(X, labels, centroids)"
   ]
  },
  {
   "cell_type": "markdown",
   "id": "f887d6ac",
   "metadata": {},
   "source": [
    "### Question 4\n",
    "Write a function that computes the new centroids using the assigned labels. Visualize the new centroids. Repeat these steps (label assignment + centroid update) for 2-3 steps. Does it converge ?"
   ]
  },
  {
   "cell_type": "code",
   "execution_count": null,
   "id": "fc4d0f43",
   "metadata": {
    "scrolled": false
   },
   "outputs": [],
   "source": [
    "def update_centroids(X, labels, centroids):\n",
    "\n",
    "    return centroids"
   ]
  },
  {
   "cell_type": "code",
   "execution_count": null,
   "id": "f196e5c6",
   "metadata": {},
   "outputs": [],
   "source": [
    "centroids = init_centroids(3, 2)"
   ]
  },
  {
   "cell_type": "markdown",
   "id": "7380e1cf",
   "metadata": {},
   "source": [
    "### Question 5\n",
    "The K-means algorithm repeats these operations until the centroids stop changing. Write a function summing up all these operations."
   ]
  },
  {
   "cell_type": "code",
   "execution_count": null,
   "id": "894781c3",
   "metadata": {},
   "outputs": [],
   "source": [
    "def Kmeans(X, K=3, maxiter=100, plot_steps=False, seed=None):\n",
    "    centroids = init_centroids(K, X, X.shape[1], seed=seed)\n",
    "    \n",
    "    for ii in range(maxiter):\n",
    "        labels=assign_labels(X, centroids)\n",
    "        new\n",
    "    return labels, centroids\n"
   ]
  },
  {
   "cell_type": "code",
   "execution_count": null,
   "id": "accdeb52",
   "metadata": {},
   "outputs": [],
   "source": [
    "labels, centroids = Kmeans(X, plot_steps=True)"
   ]
  },
  {
   "cell_type": "markdown",
   "id": "1894cc3c",
   "metadata": {},
   "source": [
    "### Question 6\n",
    "\n",
    "Generate different sets of data examples (changing the `cluster_std` parameter) and visualize the K-means output. What do you notice ? "
   ]
  },
  {
   "cell_type": "code",
   "execution_count": null,
   "id": "f87bfa3c",
   "metadata": {
    "scrolled": true
   },
   "outputs": [],
   "source": []
  },
  {
   "cell_type": "markdown",
   "id": "15716126",
   "metadata": {},
   "source": [
    "### Question 7\n",
    "Try Kmeans with this new data. Choose K wisely. Is it normal that Kmeans fails ?"
   ]
  },
  {
   "cell_type": "code",
   "execution_count": null,
   "id": "e68e0164",
   "metadata": {
    "scrolled": true
   },
   "outputs": [],
   "source": [
    "from sklearn.datasets import make_circles\n",
    "\n",
    "X, y = make_circles(500, noise=0.1, factor=0.2)\n",
    "labels, centroids = Kmeans(X, K=2, plot_steps=True)"
   ]
  },
  {
   "cell_type": "markdown",
   "id": "bbb93bd6",
   "metadata": {},
   "source": [
    "# Part 2: Compressing images with K-means\n",
    "Is it often the case that data is redundant. Take the example of the image below:"
   ]
  },
  {
   "cell_type": "code",
   "execution_count": null,
   "id": "f04490ed",
   "metadata": {},
   "outputs": [],
   "source": [
    "from sklearn.datasets import load_sample_image\n",
    "\n",
    "flower = load_sample_image('china.jpg') / 255\n",
    "flower_shape = flower.shape\n",
    "flower_colors = flower.reshape(-1, 3)\n",
    "\n",
    "print(\"Image original shape: \", flower_shape)\n",
    "print(\"Flower colors shape: \", flower_colors.shape)\n",
    "\n",
    "max_color = flower.max()\n",
    "\n",
    "plt.figure()\n",
    "plt.imshow(flower)\n",
    "plt.show()"
   ]
  },
  {
   "cell_type": "markdown",
   "id": "9659accb",
   "metadata": {},
   "source": [
    "### Question 8\n",
    "We would like to replace all colors by replacing them with the centroid they're closest to. Let's for example reduce them to 16. Run the Kmeans algorithm with K=16 on the downsampled colors array X. Then create a new image with the replaced colors and visualize it."
   ]
  },
  {
   "cell_type": "code",
   "execution_count": null,
   "id": "12ff5509",
   "metadata": {},
   "outputs": [],
   "source": [
    "from sklearn.utils import shuffle\n",
    "X = shuffle(flower_colors, random_state=0, n_samples=10_000)\n",
    "n_colors=16\n",
    "_, centroids = kmeans(X, n_colors)\n",
    "labels=assign_labels(flower_colors, centroids)\n",
    "labels"
   ]
  },
  {
   "cell_type": "markdown",
   "id": "7259134b",
   "metadata": {},
   "source": [
    "### Question 9\n",
    "Play around with the value of n_clusters (K). What do you notice ?"
   ]
  },
  {
   "cell_type": "code",
   "execution_count": null,
   "id": "41b4a674",
   "metadata": {},
   "outputs": [],
   "source": []
  },
  {
   "cell_type": "markdown",
   "id": "bb8a92c1",
   "metadata": {},
   "source": [
    "### Question 10\n",
    "Try this out but using the sklearn implementation of Kmeans. Do you obtain similar results ? Can you explain the difference ?"
   ]
  },
  {
   "cell_type": "code",
   "execution_count": null,
   "id": "ce41d741",
   "metadata": {},
   "outputs": [],
   "source": []
  }
 ],
 "metadata": {
  "kernelspec": {
   "display_name": "Python 3 (ipykernel)",
   "language": "python",
   "name": "python3"
  },
  "language_info": {
   "codemirror_mode": {
    "name": "ipython",
    "version": 3
   },
   "file_extension": ".py",
   "mimetype": "text/x-python",
   "name": "python",
   "nbconvert_exporter": "python",
   "pygments_lexer": "ipython3",
   "version": "3.11.4"
  }
 },
 "nbformat": 4,
 "nbformat_minor": 5
}
