{
 "cells": [
  {
   "cell_type": "markdown",
   "id": "bdea7dd3",
   "metadata": {},
   "source": [
    "* * *\n",
    "<pre> NYU Paris            <i> Artificial intelligence - Fall 2023 </i></pre>\n",
    "* * *\n",
    "\n",
    "\n",
    "<h1 align=\"center\"> Lab 1: Introduction to Python </h1>\n",
    "\n",
    "<pre align=\"left\"> September 8th 2023               <i> Author: Hicham Janati </i></pre>\n",
    "* * *\n",
    "\n",
    "\n",
    "##### Goals:\n",
    "- Have a working Python / Jupyter environment with packages installed\n",
    "- Know where to look for information: external resources & documentation\n",
    "- Discover core packages of the Python ecosystem:\n",
    "    1. `Numpy` for scientific computing\n",
    "    2. `Matplotlib` for plotting and visualization\n",
    "    3. `Pandas` for manipulating heterogenous dataframes\n",
    "    4. `scikit-learn` for Machine learning models"
   ]
  },
  {
   "cell_type": "markdown",
   "id": "503e0e14",
   "metadata": {},
   "source": [
    "# 1 - Getting started with Jupyter\n",
    "1. Anaconda is a large Python distribution software that includes  several Python packages and tools and simplifies their management. If you do not have it installed on your laptop go over to <a href=https://docs.anaconda.com/anaconda/install/>the official documentation</a> and follow the OS dependent installation guidelines.\n",
    "2. Create a labs folder for the Python labs of this course. For me, this path is `/Users/hichamjanati/Documents/work/teaching/NYU/labs`. Download the notebook `introduction_python.ipynb` from the [class website](https://aiteachings.github.io/NYU-AI-Fall23/lectures/) and save it in that folder.\n",
    "3. Now we need to launch Jupyter from the labs folder. To do so, open the Anaconda Terminal (Anaconda Prompt). A command line window should pop up. If you are not familiar with line commands, for our purposes all you need to know is:\n",
    "* Know what folder your terminal is in: `pwd` (print working directory) for Linux/Mac | `cd` for windows.\n",
    "* List the content of the current folder: `ls` for Linux/Mac | `dir` for Windows.\n",
    "* Change the current folder: `cd` followed by the subfolder you want to go to. Below, we complete the path with `work/teaching/NYU/code`:\n",
    "\n",
    "![terminal-screenshot](img/terminal.png)\n",
    "\n",
    "4. Now launch Jupyter by running: `jupyter notebook` which should open the browser. You should be able to access and run this notebook."
   ]
  },
  {
   "cell_type": "markdown",
   "id": "0055616d",
   "metadata": {},
   "source": [
    "# 2 - Getting started: Python in Jupyter"
   ]
  },
  {
   "cell_type": "markdown",
   "id": "6d7348aa",
   "metadata": {},
   "source": [
    "## 2.1 running cells and magic commands\n",
    "The following Python cell is a naive loop that stores the first 10 million numbers. Click-on then hit `Shift+Enter` to run it."
   ]
  },
  {
   "cell_type": "code",
   "execution_count": 2,
   "id": "93cfb019",
   "metadata": {},
   "outputs": [
    {
     "name": "stdout",
     "output_type": "stream",
     "text": [
      "The total is 49999995000000\n",
      "CPU times: user 309 ms, sys: 147 ms, total: 456 ms\n",
      "Wall time: 497 ms\n"
     ]
    }
   ],
   "source": [
    "%%time\n",
    "\n",
    "N = 10_000_000 # underscores in whole numbers are ignored by Python\n",
    "\n",
    "numbers = []  # create an empty list\n",
    "for ii in range(N):\n",
    "    numbers.append(ii) # add the number to the list\n",
    "total = sum(numbers)\n",
    "\n",
    "print(f\"The total is {total}\")"
   ]
  },
  {
   "cell_type": "markdown",
   "id": "3ebe69a2",
   "metadata": {},
   "source": [
    "The `%%time` in the beginning of the cell is called a _magic command_ that keeps track of the time it took the CPU to run the entire cell. Magic commands with one percentage apply for one lines only:"
   ]
  },
  {
   "cell_type": "code",
   "execution_count": 6,
   "id": "51770043",
   "metadata": {},
   "outputs": [
    {
     "name": "stdout",
     "output_type": "stream",
     "text": [
      "The total is 49999995000000\n",
      "CPU times: user 175 ms, sys: 95 ms, total: 270 ms\n",
      "Wall time: 299 ms\n"
     ]
    }
   ],
   "source": [
    "%time print(\"The total is\", sum([ii for ii in range(N)]))"
   ]
  },
  {
   "cell_type": "markdown",
   "id": "c8405ab1",
   "metadata": {},
   "source": [
    "\n",
    "### Question 1: \n",
    "Lists created with loops from within are this one are called _list comprehensions_.\n",
    "Can you guess why is this list comprehension 2x faster than the classic loop above ?"
   ]
  },
  {
   "cell_type": "code",
   "execution_count": 23,
   "id": "6e5b1e53",
   "metadata": {},
   "outputs": [
    {
     "data": {
      "text/plain": [
       "\"When you create a list, you can mix whatever types you want in python. Python can't compute sum of mismatched types because there is a check for types\""
      ]
     },
     "execution_count": 23,
     "metadata": {},
     "output_type": "execute_result"
    }
   ],
   "source": [
    "\"If you dont need individual elements of a list, list comprehension works best, faster than for loops\"\n",
    "\"When you create a list, you can mix whatever types you want in python. Python can't compute sum of mismatched types because there is a check for types\"\n",
    "\"Takes a lot of computation time\"\n",
    "\"the size of the list is not fixed. For loop in list comprehension is faster\""
   ]
  },
  {
   "cell_type": "code",
   "execution_count": 3,
   "id": "b948806f",
   "metadata": {},
   "outputs": [
    {
     "name": "stdout",
     "output_type": "stream",
     "text": [
      "100\n"
     ]
    }
   ],
   "source": [
    "print(100)"
   ]
  },
  {
   "cell_type": "code",
   "execution_count": 5,
   "id": "1aadf2ca",
   "metadata": {},
   "outputs": [
    {
     "data": {
      "text/plain": [
       "'Hello'"
      ]
     },
     "execution_count": 5,
     "metadata": {},
     "output_type": "execute_result"
    }
   ],
   "source": [
    "\"Hello\""
   ]
  },
  {
   "cell_type": "markdown",
   "id": "1b48100f",
   "metadata": {},
   "source": [
    "## 2.3 Jupyter cells: code, markdown and shortcuts"
   ]
  },
  {
   "cell_type": "markdown",
   "id": "61fa3a3c",
   "metadata": {},
   "source": [
    "One of the main advantages of Jupyter is the ability to alternate between text cells (such as the one you are reading right now) and Python cells. Double-click on this text to edit it. Press `Shift + Enter` to leave Edit Mode."
   ]
  },
  {
   "cell_type": "markdown",
   "id": "f8e96344",
   "metadata": {},
   "source": [
    "Text cells are actually *Markdown* cells. Markdown is a _super_ light formatting language. As you probably noticed by editing some of these cells, **double asterisks make text bold**, while _underscores make text italic_. But I digress, Markdown is a long story for another day, check [the documentation](https://www.markdownguide.org/getting-started/) for more. More importantly, here is how to create one:"
   ]
  },
  {
   "cell_type": "markdown",
   "id": "cea0a47d",
   "metadata": {},
   "source": [
    "1. Enable the _command mode_ by hitting `Esc`. Command mode in Jupyter makes the cursor disappear.\n",
    "2. Press `M` to switch from code to Markdown\n",
    "3. Or press `Y` to switch from Markdown to code.\n",
    "\n",
    "Several other shortcuts exist in the _command mode_. The ones I usually are:\n",
    "1. `A` to add a new cell above\n",
    "2. `B` to add a new cell below\n",
    "3. `Enter` to go into Edit Mode and edit a cell\n",
    "4. `H` to open the help and check all other shortcuts\n",
    "\n",
    "Keep in mind these shortcuts only work in Command Mode (i.e after pressing `Esc`)."
   ]
  },
  {
   "cell_type": "markdown",
   "id": "da297f80",
   "metadata": {},
   "source": [
    "## 2.3 The Numpy library"
   ]
  },
  {
   "cell_type": "markdown",
   "id": "ff7b5ee2",
   "metadata": {},
   "source": [
    "#### Speed and vectorization"
   ]
  },
  {
   "cell_type": "markdown",
   "id": "4ed217ab",
   "metadata": {},
   "source": [
    "Let's write code performing the same counting operation above but using the `Numpy` library. "
   ]
  },
  {
   "cell_type": "code",
   "execution_count": 9,
   "id": "98251479",
   "metadata": {},
   "outputs": [],
   "source": [
    "import numpy as np"
   ]
  },
  {
   "cell_type": "code",
   "execution_count": 10,
   "id": "3bf34d5f",
   "metadata": {},
   "outputs": [
    {
     "name": "stdout",
     "output_type": "stream",
     "text": [
      "The total is 49999995000000\n",
      "CPU times: user 58.8 ms, sys: 40.4 ms, total: 99.3 ms\n",
      "Wall time: 115 ms\n"
     ]
    }
   ],
   "source": [
    "%%time\n",
    "N = 10_000_000\n",
    "numbers = np.arange(N)  # creates an array of integers from 0 to N-1\n",
    "total = numbers.sum()   # sums the array\n",
    "print(f\"The total is {total}\")"
   ]
  },
  {
   "cell_type": "markdown",
   "id": "bafb7713",
   "metadata": {},
   "source": [
    "As you can see `Numpy` is 3x faster than list comprensions and code is much shorter. `Numpy` should always be preferred to native Python lists when dealing with nothing but numbers and matrices. `Numpy` vectorizes operations: instead of going through the elements one by one as in a for loop, operations are applied at the same time."
   ]
  },
  {
   "cell_type": "markdown",
   "id": "c1e45e31",
   "metadata": {},
   "source": [
    "The dot product between two arrays x, y of length n is given by: $<x, y> = x^{\\top} y = \\sum_{i=1}^n x_i y_i$. \n",
    "\n",
    "### Question 2:\n",
    "Complete the following cells to compare the speed of dot products using native loops vs the numpy operation `result = x.dot(y)`."
   ]
  },
  {
   "cell_type": "code",
   "execution_count": 11,
   "id": "43e855b0",
   "metadata": {},
   "outputs": [],
   "source": [
    "## TO DO\n",
    "\n",
    "N = 10_000_000\n",
    "x = np.random.randn(N)  # creates a list of random numbers following the Gaussian bell curve distribution\n",
    "y = np.random.randn(N)\n",
    "\n",
    "result_loops =  x.dot(y)\n",
    "\n",
    "### TO DO \n"
   ]
  },
  {
   "cell_type": "code",
   "execution_count": 7,
   "id": "524778e1",
   "metadata": {},
   "outputs": [
    {
     "ename": "NameError",
     "evalue": "name 'x' is not defined",
     "output_type": "error",
     "traceback": [
      "\u001b[0;31m---------------------------------------------------------------------------\u001b[0m",
      "\u001b[0;31mNameError\u001b[0m                                 Traceback (most recent call last)",
      "Cell \u001b[0;32mIn[7], line 3\u001b[0m\n\u001b[1;32m      1\u001b[0m \u001b[38;5;66;03m# TODO\u001b[39;00m\n\u001b[0;32m----> 3\u001b[0m result_numpy \u001b[38;5;241m=\u001b[39m x\u001b[38;5;241m.\u001b[39mdot(y)\n\u001b[1;32m      4\u001b[0m \u001b[38;5;28mprint\u001b[39m(result_numpy)\n",
      "\u001b[0;31mNameError\u001b[0m: name 'x' is not defined"
     ]
    }
   ],
   "source": [
    "# TODO\n",
    "\n",
    "result_numpy = \n",
    "print(result_numpy)"
   ]
  },
  {
   "cell_type": "markdown",
   "id": "0a28fcb9",
   "metadata": {},
   "source": [
    "#### Numpy slicing"
   ]
  },
  {
   "cell_type": "markdown",
   "id": "2c4eca41",
   "metadata": {},
   "source": [
    "Numpy offers a simple way to select subsets of the array called slicing. To get the slice from the 3-th to the 5-th element for instance:"
   ]
  },
  {
   "cell_type": "code",
   "execution_count": 14,
   "id": "69ecaf80",
   "metadata": {},
   "outputs": [
    {
     "name": "stdout",
     "output_type": "stream",
     "text": [
      "All the array:  [0 1 2 3 4 5 6 7 8 9]\n",
      "A slice:  [2 3 4]\n"
     ]
    }
   ],
   "source": [
    "x = np.arange(10)\n",
    "print(\"All the array: \", x)\n",
    "print(\"A slice: \", x[2:5])"
   ]
  },
  {
   "cell_type": "markdown",
   "id": "5de08577",
   "metadata": {},
   "source": [
    "Remember that Python starts indexing with 0 and that a slice [start:end] includes `start` but excludes `end`. If ommitted, `start` is set to 0, and `end` is the last index of the array. Picking the first 6 elements:"
   ]
  },
  {
   "cell_type": "code",
   "execution_count": 13,
   "id": "e70e7617",
   "metadata": {},
   "outputs": [
    {
     "data": {
      "text/plain": [
       "array([-0.20897204,  0.28719563, -0.31670121, -0.18392602,  0.20478191,\n",
       "        0.86824038])"
      ]
     },
     "execution_count": 13,
     "metadata": {},
     "output_type": "execute_result"
    }
   ],
   "source": [
    "x[:6]"
   ]
  },
  {
   "cell_type": "markdown",
   "id": "76dedadc",
   "metadata": {},
   "source": [
    "To omit the last number, one can use negative indices. For example:"
   ]
  },
  {
   "cell_type": "code",
   "execution_count": null,
   "id": "32ac740a",
   "metadata": {},
   "outputs": [],
   "source": [
    "x[:-1]"
   ]
  },
  {
   "cell_type": "code",
   "execution_count": null,
   "id": "a82e09cd",
   "metadata": {},
   "outputs": [],
   "source": [
    "x[:-3]"
   ]
  },
  {
   "cell_type": "markdown",
   "id": "01fcd911",
   "metadata": {},
   "source": [
    "Slices can also have a third parameter which is a `step`. So far we omitted this argument which is by default equal to 1. Starting at 0, we can pick even indices by using a step of 2:"
   ]
  },
  {
   "cell_type": "code",
   "execution_count": null,
   "id": "579de31e",
   "metadata": {},
   "outputs": [],
   "source": [
    "x[0:10:2]"
   ]
  },
  {
   "cell_type": "markdown",
   "id": "b3ab21b0",
   "metadata": {},
   "source": [
    "We can omit the start and end arguments since they are not doing anything:"
   ]
  },
  {
   "cell_type": "code",
   "execution_count": null,
   "id": "160e89d5",
   "metadata": {},
   "outputs": [],
   "source": [
    "x[::2]"
   ]
  },
  {
   "cell_type": "markdown",
   "id": "edc27864",
   "metadata": {},
   "source": [
    "### Question 3:\n",
    "Create a slice that picks odd numbers in reverse order using one slice only."
   ]
  },
  {
   "cell_type": "code",
   "execution_count": 26,
   "id": "449672cb",
   "metadata": {},
   "outputs": [
    {
     "name": "stdout",
     "output_type": "stream",
     "text": [
      "[9 7 5 3 1]\n"
     ]
    }
   ],
   "source": [
    "x = np.arange(10)\n",
    "print(x[::-2])"
   ]
  },
  {
   "cell_type": "markdown",
   "id": "594a6ae0",
   "metadata": {},
   "source": [
    "## 2.4 Matplotlib: plotting and visualization\n",
    "\n",
    "###### Example 1: curve plot\n",
    "We want to plot the function $f: x \\to x^2$ over the range $[-5, 5]$.\n",
    "To do so we create a regular grid of 1000 numbers in $[-5, 5]$ using the Numpy function `linspace`."
   ]
  },
  {
   "cell_type": "code",
   "execution_count": null,
   "id": "2f156550",
   "metadata": {},
   "outputs": [],
   "source": [
    "import matplotlib.pyplot as plt\n",
    "\n",
    "# we create our square function\n",
    "\n",
    "def f(x):\n",
    "    return x ** 2 # basic operations are applied element-wise to numpy arrays\n",
    "\n",
    "n = 1000\n",
    "x = np.linspace(-5, 5, n)\n",
    "fx = f(x) \n",
    "\n",
    "plt.figure(figsize=(3, 3))\n",
    "plt.plot(x, fx)\n",
    "plt.show()"
   ]
  },
  {
   "cell_type": "markdown",
   "id": "28d96924",
   "metadata": {},
   "source": [
    "We can improve the quality of this visualization by adding:\n",
    "- a grid\n",
    "- a title \n",
    "- labels for axes"
   ]
  },
  {
   "cell_type": "code",
   "execution_count": null,
   "id": "eec39e6a",
   "metadata": {},
   "outputs": [],
   "source": [
    "plt.figure(figsize=(3, 3))\n",
    "plt.plot(x, fx)\n",
    "plt.grid(True)\n",
    "plt.xlabel(\"x\")\n",
    "plt.ylabel(\"f(x)\")\n",
    "plt.title(\"Square function\")\n",
    "plt.show()"
   ]
  },
  {
   "cell_type": "markdown",
   "id": "a75889b0",
   "metadata": {},
   "source": [
    "### Question 4\n",
    "Assume you forgot what the function `np.linspace` takes as arguments. You can either:\n",
    "- Look up the Numpy documentation directly (numpy linspace search on google should immediately lead you to numpy.org) \n",
    "- Run the following cell to get the documentation window on Jupyter:"
   ]
  },
  {
   "cell_type": "code",
   "execution_count": null,
   "id": "139ca04a",
   "metadata": {},
   "outputs": [],
   "source": [
    "np.linspace?"
   ]
  },
  {
   "cell_type": "markdown",
   "id": "94142333",
   "metadata": {},
   "source": [
    "##### Example 2: scatter plot\n",
    "\n",
    "Assume we have data of grades obtained by 10 students and the number of hours spent on assignments per week.  "
   ]
  },
  {
   "cell_type": "code",
   "execution_count": null,
   "id": "2d6e3035",
   "metadata": {},
   "outputs": [],
   "source": [
    "data = np.array([[80, 3],\n",
    "                 [71, 4],\n",
    "                 [95, 6],\n",
    "                 [62, 1],\n",
    "                 [68, 0],\n",
    "                 [100, 5],\n",
    "                 [95, 7],\n",
    "                 [95, 5],\n",
    "                 [83, 3],\n",
    "                 [71, 2],\n",
    "                 [80, 3],\n",
    "                 [82, 2],\n",
    "                 [80, 5],\n",
    "                 [80, 4],\n",
    "                 [86, 6],\n",
    "                 [84, 8]])\n",
    "\n",
    "print(data.shape)"
   ]
  },
  {
   "cell_type": "markdown",
   "id": "512c33a1",
   "metadata": {},
   "source": [
    "We visualize these data points as 2D coordinates, each student represented by a dot. To do so we call the `scatter` function of matplotlib."
   ]
  },
  {
   "cell_type": "code",
   "execution_count": null,
   "id": "6379e91a",
   "metadata": {},
   "outputs": [],
   "source": [
    "plt.figure(figsize=(4, 4))\n",
    "plt.scatter(data[:, 0], data[:, 1])\n",
    "plt.grid(True)\n",
    "plt.xlabel(\"Grade\")\n",
    "plt.ylabel(\"Hours / week\")\n",
    "plt.show()"
   ]
  },
  {
   "cell_type": "markdown",
   "id": "a835d94d",
   "metadata": {},
   "source": [
    "###### Example 3: random numbers and histograms\n",
    "\n",
    "The following cell generates two arrays: \n",
    "- 1000 random uniformly distributed numbers in $[-3, 3]$\n",
    "- 1000 random numbers following the Gaussian (normal) distribution.\n",
    "\n",
    "We display their histograms with a legend."
   ]
  },
  {
   "cell_type": "code",
   "execution_count": null,
   "id": "6772dedb",
   "metadata": {},
   "outputs": [],
   "source": [
    "N = 1000\n",
    "uniform = np.random.rand(N)\n",
    "gaussian = np.random.randn(N)\n",
    "\n",
    "plt.figure()\n",
    "plt.hist(uniform, bins=50, color=\"cornflowerblue\", label=\"Uniform\", density=True)\n",
    "plt.hist(gaussian, bins=50, color=\"gold\", label=\"Gaussian\", alpha=0.7, density=True) # alpha parameter controls transparency\n",
    "plt.legend()\n",
    "plt.grid()\n",
    "plt.show()"
   ]
  },
  {
   "cell_type": "markdown",
   "id": "d9fbd124",
   "metadata": {},
   "source": [
    "Run the cell multiple times. What do you notice ?"
   ]
  },
  {
   "cell_type": "markdown",
   "id": "3c2d285b",
   "metadata": {},
   "source": [
    "When writing code, we always want it to be deterministic i.e reproducible. To fix\n",
    "the randomness of the data each time we run it, we need to fix the _seed_ (or state) of the random generator:"
   ]
  },
  {
   "cell_type": "code",
   "execution_count": null,
   "id": "cb011484",
   "metadata": {},
   "outputs": [],
   "source": [
    "seed = 42\n",
    "rng = np.random.RandomState(seed)\n",
    "rng.randn()"
   ]
  },
  {
   "cell_type": "markdown",
   "id": "e0ebef0e",
   "metadata": {},
   "source": [
    "### Question 5\n",
    "Add this before the plot to change how numbers are generated. What do you notice now ?"
   ]
  },
  {
   "cell_type": "markdown",
   "id": "fa108812",
   "metadata": {},
   "source": [
    "## 2.5 - Pandas dataframes:  Heterogenous data\n",
    "While Numpy is excellent and can handle matrices (arrays) of any shape, the elements of the arrays must have the same type which seldom happens in practice. Real data variables often include:\n",
    "- ordered integers (for count data such as number of houses, number of genes, or survery satisfaction scores)\n",
    "- real numbers (prices, distances, anything measurable with a certain degree of accuracy)\n",
    "- strings (text, names ..)\n",
    "- unordered integers (for e.g continent: 0 for Europe, 1 for America, 2 Africa, 3 Asia)\n",
    "\n",
    "This is where `Pandas` comes in to play. Let's create a `Pandas` dataframe from the grade data."
   ]
  },
  {
   "cell_type": "code",
   "execution_count": null,
   "id": "c318aa27",
   "metadata": {},
   "outputs": [],
   "source": [
    "import pandas as pd\n",
    "\n",
    "df = pd.DataFrame(data, columns=[\"grade\", \"hoursworked\"])\n",
    "df.head()"
   ]
  },
  {
   "cell_type": "markdown",
   "id": "e0c99fd9",
   "metadata": {},
   "source": [
    "We can create a simple categorical variable for the quality of the grade and add it as a new column and change its type to categorical:"
   ]
  },
  {
   "cell_type": "code",
   "execution_count": null,
   "id": "c7194696",
   "metadata": {},
   "outputs": [],
   "source": [
    "df[\"quality\"] = [\"bad\" if x < 70 else \"good\" for x in df.grade]\n",
    "df[\"quality\"] = df[\"quality\"].astype(\"category\")\n",
    "df.head()"
   ]
  },
  {
   "cell_type": "markdown",
   "id": "bd41012f",
   "metadata": {},
   "source": [
    "The types of the dataframe variables:"
   ]
  },
  {
   "cell_type": "code",
   "execution_count": null,
   "id": "a7efdaaa",
   "metadata": {},
   "outputs": [],
   "source": [
    "df.dtypes"
   ]
  },
  {
   "cell_type": "markdown",
   "id": "be92fbe7",
   "metadata": {},
   "source": [
    "To have a quick overview of the numerical variables of the entire table, run:"
   ]
  },
  {
   "cell_type": "code",
   "execution_count": null,
   "id": "07e504ae",
   "metadata": {},
   "outputs": [],
   "source": [
    "df.describe()"
   ]
  },
  {
   "cell_type": "markdown",
   "id": "e43cb016",
   "metadata": {},
   "source": [
    "To select portions of the dataframe. You can use `df.loc` for slicing by labels or `df.iloc` for slicing by indices."
   ]
  },
  {
   "cell_type": "code",
   "execution_count": null,
   "id": "eb5faa8e",
   "metadata": {},
   "outputs": [],
   "source": [
    "df.head()"
   ]
  },
  {
   "cell_type": "code",
   "execution_count": null,
   "id": "fb349c57",
   "metadata": {},
   "outputs": [],
   "source": [
    "df.loc[[1, 3], [\"grade\", \"quality\"]]"
   ]
  },
  {
   "cell_type": "code",
   "execution_count": null,
   "id": "63e59a5d",
   "metadata": {},
   "outputs": [],
   "source": [
    "df.iloc[[1, 3], :2]"
   ]
  },
  {
   "cell_type": "markdown",
   "id": "8aababcc",
   "metadata": {},
   "source": [
    "Pandas has its own plotting functions using matplotlib under the hood. For example, you can quickly view the grade distribution with:"
   ]
  },
  {
   "cell_type": "code",
   "execution_count": null,
   "id": "6af47ebc",
   "metadata": {
    "scrolled": true
   },
   "outputs": [],
   "source": [
    "df.grade.hist()"
   ]
  },
  {
   "cell_type": "markdown",
   "id": "80d00415",
   "metadata": {},
   "source": [
    "Pandas has much more to offer, if you want to learn more about Pandas, please check their [overview tutorial](https://pandas.pydata.org/docs/user_guide/10min.html)."
   ]
  },
  {
   "cell_type": "code",
   "execution_count": null,
   "id": "4d3165cf",
   "metadata": {},
   "outputs": [],
   "source": []
  }
 ],
 "metadata": {
  "kernelspec": {
   "display_name": "Python 3 (ipykernel)",
   "language": "python",
   "name": "python3"
  },
  "language_info": {
   "codemirror_mode": {
    "name": "ipython",
    "version": 3
   },
   "file_extension": ".py",
   "mimetype": "text/x-python",
   "name": "python",
   "nbconvert_exporter": "python",
   "pygments_lexer": "ipython3",
   "version": "3.11.4"
  }
 },
 "nbformat": 4,
 "nbformat_minor": 5
}
