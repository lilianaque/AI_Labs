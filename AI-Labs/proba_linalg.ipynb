{
 "cells": [
  {
   "cell_type": "markdown",
   "id": "bdea7dd3",
   "metadata": {},
   "source": [
    "* * *\n",
    "<pre> NYU Paris            <i> Artificial intelligence - Fall 2023 </i></pre>\n",
    "* * *\n",
    "\n",
    "\n",
    "<h1 align=\"center\"> Lab 3: Probability and Linear algebra  </h1>\n",
    "\n",
    "<pre align=\"left\"> September 14th 2023               <i> Author: Hicham Janati </i></pre>\n",
    "* * *\n",
    "\n",
    "\n",
    "##### Goals:\n",
    "- Random numbers generation with numpy\n",
    "- Get familiar with the law of large numbers and the central limit theorem\n",
    "- Linear algebra: scalar products, eigenvalue decomposition and SVD\n"
   ]
  },
  {
   "cell_type": "markdown",
   "id": "e17be39c",
   "metadata": {},
   "source": [
    "# Part 1: Probability\n",
    "###  a) Random number generators\n",
    "Mathematically, a random variable is a function that takes an 'event' $\\omega$ to some measurable space $\\mathcal{X}$. Exampls:\n",
    "1. The result of a throw of a dice $X$ can be represented as a random variable taking values in $\\mathcal{X} = \\{1, 2, 3, 4, 5, 6\\}$ where each event $\\omega$ is a throw which is mapped to some observed number. \n",
    "2. The height of a person $H$ can be represented as a random variable taking values in $\\mathcal{X} = \\mathbb{R}_+$ where each event $\\omega$ is the act of picking a person randomly and measuring their height.\n",
    "\n",
    "For the sake of simplicity, we omit $\\omega$ in general. \n",
    "\n",
    "Assume we perform $n$ consecutive and independent dice throws. We denote the i-th throw by a random variable $X_i$. All $X_1, \\dots, X_n$. "
   ]
  },
  {
   "cell_type": "markdown",
   "id": "7ebfce09",
   "metadata": {},
   "source": [
    "#### Question 1\n",
    "Look up the documentation of the function `numpy.random.randint` and generate 10 samples. "
   ]
  },
  {
   "cell_type": "code",
   "execution_count": 1,
   "id": "3d95aab7",
   "metadata": {},
   "outputs": [
    {
     "data": {
      "text/plain": [
       "array([1, 6, 7, 3, 7, 0, 7, 4, 9, 6])"
      ]
     },
     "execution_count": 1,
     "metadata": {},
     "output_type": "execute_result"
    }
   ],
   "source": [
    "import numpy as np\n",
    "    #np.random.seed(42)\n",
    "np.random.randint(10, size=10)"
   ]
  },
  {
   "cell_type": "code",
   "execution_count": null,
   "id": "39f5e5f0",
   "metadata": {},
   "outputs": [],
   "source": []
  },
  {
   "cell_type": "markdown",
   "id": "f449bf03",
   "metadata": {},
   "source": [
    "#### Question 2\n",
    "Run the same cell a second time. What do you notice ? Re-run the entire notebook `Kernel -> Restart`. Do you get the same first throw ? "
   ]
  },
  {
   "cell_type": "code",
   "execution_count": 2,
   "id": "fa31200f",
   "metadata": {},
   "outputs": [],
   "source": [
    "#It changes every time you rerun the cell and when you restart the entire notebook.\n"
   ]
  },
  {
   "cell_type": "markdown",
   "id": "eed9d2fa",
   "metadata": {},
   "source": [
    "#### Question 3\n",
    "Add the following instruction before your code above and run the cell multiple times. What do you notice ?\n"
   ]
  },
  {
   "cell_type": "code",
   "execution_count": 3,
   "id": "675f787c",
   "metadata": {},
   "outputs": [],
   "source": [
    "np.random.seed(42) #The array stays the same when you add this"
   ]
  },
  {
   "cell_type": "markdown",
   "id": "cb8d803c",
   "metadata": {},
   "source": [
    "Even though the behavior of random generators *seems* random, it is not. A computer program is by definition deterministic. Random generators are actually pseudo-random: they only simulate the behavior of random numbers for a small enough sample size. PRGs produce a long sequence of repeting numbers, but they only repeat themselves after a very long time. The starting point of this sequence is called the seed."
   ]
  },
  {
   "cell_type": "markdown",
   "id": "0c5213f9",
   "metadata": {},
   "source": [
    "#### Question 4\n",
    "Run the following cell. What is `rng` ? How can it be used ?\n",
    "\n",
    "_Hint: Type `rng.` and hit `tab` to get python suggestions._"
   ]
  },
  {
   "cell_type": "code",
   "execution_count": 4,
   "id": "38cdfd69",
   "metadata": {},
   "outputs": [
    {
     "data": {
      "text/plain": [
       "array([5, 1, 2, 6, 3, 1, 4, 2, 4, 4])"
      ]
     },
     "execution_count": 4,
     "metadata": {},
     "output_type": "execute_result"
    }
   ],
   "source": [
    "rng = np.random.RandomState(43)\n",
    "rng.randint(1,7, size=10)\n",
    "\n",
    "#Why we fix the seed:\n"
   ]
  },
  {
   "cell_type": "markdown",
   "id": "6b663326",
   "metadata": {},
   "source": [
    "#### Question 5\n",
    "Replace the seed number with `None`. What happened ?"
   ]
  },
  {
   "cell_type": "code",
   "execution_count": null,
   "id": "6619e31f",
   "metadata": {},
   "outputs": [],
   "source": []
  },
  {
   "cell_type": "markdown",
   "id": "3c4eb342",
   "metadata": {},
   "source": [
    "#### Quetion 5\n",
    "Complete the following function that takes an input $n$ and returns $n$ samples from a dice throw.  \n",
    "\n"
   ]
  },
  {
   "cell_type": "code",
   "execution_count": 5,
   "id": "3642f04f",
   "metadata": {},
   "outputs": [
    {
     "name": "stdout",
     "output_type": "stream",
     "text": [
      "5 dice throws: [2 0 3 2 3]\n"
     ]
    }
   ],
   "source": [
    "def dice_throws(n, seed=None):\n",
    "    a=rng.randint(n, size=n)\n",
    "    return a\n",
    "\n",
    "n = 5\n",
    "dice = dice_throws(n)\n",
    "print(f\"{n} dice throws: {dice}\")"
   ]
  },
  {
   "cell_type": "code",
   "execution_count": 6,
   "id": "fca481c6",
   "metadata": {},
   "outputs": [],
   "source": [
    "def dice_throws(n, random_state=None):\n",
    "#we want fixed seed defined outside of this code block. How do we do this?\n",
    "#user experience features \n",
    "    if random_state is None:\n",
    "        rng=np.random.RandomState(None)\n",
    "    elif type(random_state)==int:\n",
    "        rng=np.random.RandomState(random_state)\n",
    "    else:\n",
    "        rng=random_state\n",
    "\n",
    "    a=rng.randint(n, size=n)\n",
    "    return a\n",
    "\n",
    "#arguments of functions do not have a fixed type"
   ]
  },
  {
   "cell_type": "markdown",
   "id": "3a4fec70",
   "metadata": {},
   "source": [
    "#### Question 6\n",
    "Run the following cell to display the histogram of the dice throws for small and large n."
   ]
  },
  {
   "cell_type": "code",
   "execution_count": 7,
   "id": "c9ef67d3",
   "metadata": {},
   "outputs": [
    {
     "data": {
      "image/png": "[encoded data removed]",
      "text/plain": [
       "<Figure size 640x480 with 1 Axes>"
      ]
     },
     "metadata": {},
     "output_type": "display_data"
    }
   ],
   "source": [
    "import matplotlib.pyplot as plt\n",
    "plt.figure()\n",
    "plt.hist(dice)\n",
    "plt.show()"
   ]
  },
  {
   "cell_type": "markdown",
   "id": "d7ae69c7",
   "metadata": {},
   "source": [
    "#### Question 7\n",
    "Complete the following function that computes the mean of the samples and make a list `means` containing the mean throw for the different values of n in `n_values`. As $n$ increases, does the mean converge to the expected theoretical mean ?"
   ]
  },
  {
   "cell_type": "code",
   "execution_count": 8,
   "id": "05af0e5f",
   "metadata": {},
   "outputs": [],
   "source": [
    "def mean_throw(n, seed=None):\n",
    "    n=rng.randint(n_values, size=n)\n",
    "    for i in n:\n",
    "        sum=print(sum(i)/n)\n",
    "    return sum\n",
    "\n",
    "n_values = [5, 10, 20, 50, 100, 200, 500, 1000, 5000]\n",
    "means = []\n",
    "\n",
    "# todo\n"
   ]
  },
  {
   "cell_type": "markdown",
   "id": "0055616d",
   "metadata": {},
   "source": [
    "This result is known as the law of large numbers. To study it formally, we are going to turn to a simple example: the coin flip.\n",
    "### b) Law of large numbers\n",
    "Let $X$ be a random variable with mean $\\mu$ and variance $\\sigma^2$.\n",
    "\n",
    "The law of large numbers states that the empirical mean $\\bar{X_n} = \\frac{1}{n}\\sum_{i=1}^n X_i$ converges to the true mean $\\mu$ as $n\\to+\\infty$.\n",
    "\n"
   ]
  },
  {
   "cell_type": "markdown",
   "id": "9bdbadd2",
   "metadata": {},
   "source": [
    "We are going to test this result empirically. \n",
    "In the rest of this section, $X$ is a Bernoulli random variable (fair coin flip)."
   ]
  },
  {
   "cell_type": "code",
   "execution_count": 16,
   "id": "381f0a8a",
   "metadata": {},
   "outputs": [],
   "source": [
    "import numpy as np\n",
    "import matplotlib.pyplot as plt"
   ]
  },
  {
   "cell_type": "markdown",
   "id": "696ebd3b",
   "metadata": {},
   "source": [
    "#### Question 8\n",
    "What is the mean of $X$ ?"
   ]
  },
  {
   "cell_type": "code",
   "execution_count": 14,
   "id": "3f3f64e3",
   "metadata": {},
   "outputs": [
    {
     "data": {
      "text/plain": [
       "array([[-0.34984045, -0.72859317],\n",
       "       [-1.35166096, -0.3966044 ],\n",
       "       [ 0.32227584,  0.24620876],\n",
       "       ...,\n",
       "       [ 1.74170353,  2.8515894 ],\n",
       "       [ 1.93588283,  2.75579156],\n",
       "       [-1.58754477, -2.14473438]])"
      ]
     },
     "execution_count": 14,
     "metadata": {},
     "output_type": "execute_result"
    }
   ],
   "source": [
    "cov=np.array([[1,1],[1,2]])\n",
    "mean=np.array([0,0])\n",
    "np.random.multivariate_normal(mean, cov=cov, size=2000)"
   ]
  },
  {
   "cell_type": "code",
   "execution_count": 15,
   "id": "64b97142",
   "metadata": {},
   "outputs": [
    {
     "ename": "NameError",
     "evalue": "name 'X' is not defined",
     "output_type": "error",
     "traceback": [
      "\u001b[0;31m---------------------------------------------------------------------------\u001b[0m",
      "\u001b[0;31mNameError\u001b[0m                                 Traceback (most recent call last)",
      "Cell \u001b[0;32mIn[15], line 2\u001b[0m\n\u001b[1;32m      1\u001b[0m plt\u001b[38;5;241m.\u001b[39mfigure()\n\u001b[0;32m----> 2\u001b[0m plt\u001b[38;5;241m.\u001b[39mscatter(X\u001b[38;5;241m.\u001b[39mT[\u001b[38;5;241m0\u001b[39m], X\u001b[38;5;241m.\u001b[39mT[\u001b[38;5;241m1\u001b[39m], s\u001b[38;5;241m=\u001b[39m\u001b[38;5;241m5\u001b[39m)\n\u001b[1;32m      3\u001b[0m plt\u001b[38;5;241m.\u001b[39mgrid()\n\u001b[1;32m      4\u001b[0m plt\u001b[38;5;241m.\u001b[39mshow()\n",
      "\u001b[0;31mNameError\u001b[0m: name 'X' is not defined"
     ]
    },
    {
     "data": {
      "text/plain": [
       "<Figure size 640x480 with 0 Axes>"
      ]
     },
     "metadata": {},
     "output_type": "display_data"
    }
   ],
   "source": [
    "plt.figure()\n",
    "plt.scatter(X.T[0], X.T[1], s=5)\n",
    "plt.grid()\n",
    "plt.show()"
   ]
  },
  {
   "cell_type": "markdown",
   "id": "3423f9a1",
   "metadata": {},
   "source": []
  },
  {
   "cell_type": "markdown",
   "id": "72c4f884",
   "metadata": {},
   "source": [
    "#### Question 9\n",
    "Generate an sample of size 100 and compute its mean."
   ]
  },
  {
   "cell_type": "code",
   "execution_count": 10,
   "id": "ac30ae43",
   "metadata": {},
   "outputs": [
    {
     "data": {
      "text/plain": [
       "0.5"
      ]
     },
     "execution_count": 10,
     "metadata": {},
     "output_type": "execute_result"
    }
   ],
   "source": [
    "x=rng.randint(low=0, high=2, size=100)\n",
    "x.mean()"
   ]
  },
  {
   "cell_type": "markdown",
   "id": "996b1081",
   "metadata": {},
   "source": [
    "#### Question 10\n",
    "Complete the following code to test the LLN theorem. We want to plot the errors: \n",
    "$$ error_n = |\\bar{X_n} - limit| $$\n",
    "and visualize their convergence to zero."
   ]
  },
  {
   "cell_type": "code",
   "execution_count": 11,
   "id": "15fd1a37",
   "metadata": {},
   "outputs": [
    {
     "data": {
      "text/plain": [
       "array([ 10, 110, 210, 310, 410, 510, 610, 710, 810, 910])"
      ]
     },
     "execution_count": 11,
     "metadata": {},
     "output_type": "execute_result"
    }
   ],
   "source": [
    "np.arange(10,1000,100)"
   ]
  },
  {
   "cell_type": "code",
   "execution_count": 12,
   "id": "740fd6c8",
   "metadata": {},
   "outputs": [
    {
     "ename": "SyntaxError",
     "evalue": "invalid syntax (2719863551.py, line 2)",
     "output_type": "error",
     "traceback": [
      "\u001b[0;36m  Cell \u001b[0;32mIn[12], line 2\u001b[0;36m\u001b[0m\n\u001b[0;31m    lln_limit = # to do\u001b[0m\n\u001b[0m                ^\u001b[0m\n\u001b[0;31mSyntaxError\u001b[0m\u001b[0;31m:\u001b[0m invalid syntax\n"
     ]
    }
   ],
   "source": [
    "# expected limit\n",
    "lln_limit = # to do\n",
    "\n",
    "ns = np.arange(10, 10000, 100)\n",
    "\n",
    "# compute means here\n",
    "means = []\n",
    "\n",
    "errors = # to do "
   ]
  },
  {
   "cell_type": "code",
   "execution_count": null,
   "id": "b9f4db33",
   "metadata": {},
   "outputs": [],
   "source": [
    "plt.figure()\n",
    "plt.plot(ns, errors)\n",
    "plt.yscale(\"log\")\n",
    "plt.xscale(\"log\")\n",
    "plt.ylabel(r\"Errors $E_n$\")\n",
    "plt.xlabel(r\"$n$\")\n",
    "plt.show()"
   ]
  },
  {
   "cell_type": "markdown",
   "id": "609b13ab",
   "metadata": {},
   "source": [
    "### c) Central limit theorem\n",
    "#### Question 11\n",
    "As increases these errors (with the sign) should follow a Gaussian distribution. This is known as the central limit theorem. Formally:\n",
    "\n",
    "The central limit theorem provides a rate of convergence as well as the distribution of the errors of the empirical mean as $n \\to +\\infty$:\n",
    "\n",
    "$$\\frac{\\sqrt{n}}{\\sigma} (\\bar{X_n} - \\mu) \\sim \\text{Gaussian}(0, 1)$$\n",
    "\n",
    "With a provided and fixed N, write a function that computes M samples of the error $E_n = \\frac{\\sqrt{n}}{\\sigma} (\\bar{X_n} - \\mu)$"
   ]
  },
  {
   "cell_type": "code",
   "execution_count": null,
   "id": "6efadb67",
   "metadata": {},
   "outputs": [],
   "source": [
    "n=100\n",
    "mu=0\n",
    "sigma= (mu *(1-mu))**0.5\n",
    "X=rng.randint(0,2,size=(n,5))\n",
    "means=X.mean(axis=0)\n",
    "errors=n**0.5/sigma*(means-mu)"
   ]
  },
  {
   "cell_type": "code",
   "execution_count": null,
   "id": "053830b0",
   "metadata": {},
   "outputs": [],
   "source": [
    "def generate_errors(n, M, seed=None):\n",
    "    error=n.sqrt()/sigma * (M)\n",
    "    return error"
   ]
  },
  {
   "cell_type": "code",
   "execution_count": null,
   "id": "36c50e9e",
   "metadata": {},
   "outputs": [],
   "source": [
    "E = generate_errors(1000, 100)\n",
    "E"
   ]
  },
  {
   "cell_type": "markdown",
   "id": "d294baf9",
   "metadata": {},
   "source": [
    "#### Question 12\n",
    "Complete the following cell to plot a histogram of the errors and the true density."
   ]
  },
  {
   "cell_type": "markdown",
   "id": "07f473ba",
   "metadata": {},
   "source": [
    "$$ \\frac{1}{\\sqrt{2\\pi}}\\exp(-\\frac{x^2}{2}) $$"
   ]
  },
  {
   "cell_type": "code",
   "execution_count": null,
   "id": "d3f5cce8",
   "metadata": {},
   "outputs": [],
   "source": [
    "n = 10000\n",
    "M = 1000\n",
    "E = generate_errors(n, M)\n",
    "\n",
    "x = np.linspace(-6, 6, 100)\n",
    "density = 1/(2*np.pi)**0.5*np. \n",
    "\n",
    "plt.figure()\n",
    "plt.plot(x, density, color=\"cornflowerblue\", lw=2, label=\"Gaussian density function\")\n",
    "plt.hist(E, bins=100, alpha=0.6, color=\"gold\", label=\"Errors histogram\", density=True)\n",
    "plt.legend()\n",
    "plt.show()"
   ]
  },
  {
   "cell_type": "code",
   "execution_count": null,
   "id": "91942b66",
   "metadata": {},
   "outputs": [],
   "source": []
  },
  {
   "cell_type": "markdown",
   "id": "611a6807",
   "metadata": {},
   "source": [
    "# Part 2: Linear algebra\n",
    "The scalar product between two vectors of the form $x = \\begin{pmatrix} x_1 \\\\ x_2 \\end{pmatrix}$ provides a score of ``congruence`` i.e whether vectors are aligned, orthogonal or anti-aligned. The amplitude of the score is proportional to their magnitudes:\n",
    "\n",
    "$$\\langle x, y \\rangle = x_1y_1 + x_2 y_2 = \\|x\\|\\|y\\| \\cos(\\alpha) $$ where $\\alpha$ is the angle formed by $x$ and $y$.  \n",
    "\n",
    "#### Question 1\n"
   ]
  },
  {
   "cell_type": "markdown",
   "id": "cf087b2b",
   "metadata": {},
   "source": [
    "Let $w$ be a fixed vector in $\\mathbb{R}^2$. What is the set of points $x$ in the space such that $\\langle w, x\\rangle = 0$ ? "
   ]
  },
  {
   "cell_type": "code",
   "execution_count": null,
   "id": "7980e956",
   "metadata": {},
   "outputs": [],
   "source": []
  },
  {
   "cell_type": "markdown",
   "id": "23e184f5",
   "metadata": {},
   "source": [
    "#### Question 2\n",
    "Complete the following figure with the set of points $x$."
   ]
  },
  {
   "cell_type": "code",
   "execution_count": null,
   "id": "eed0b209",
   "metadata": {},
   "outputs": [],
   "source": [
    "from matplotlib import pyplot as plt\n",
    "options = {\"head_width\":0.1, \"head_length\":0.2, \"length_includes_head\":True}\n",
    "\n",
    "plt.figure()\n",
    "plt.arrow(0,0,1,2,fc='b',ec='b',**options)\n",
    "plt.grid()\n",
    "plt.xlim([-3, 3])\n",
    "plt.ylim([-3, 3])\n",
    "plt.show()"
   ]
  },
  {
   "cell_type": "markdown",
   "id": "e5483a0d",
   "metadata": {},
   "source": [
    "#### Question 3\n",
    "What about the set of points such that $\\langle w, x\\rangle > 0$ and $\\langle w, x\\rangle < 0$ ?"
   ]
  },
  {
   "cell_type": "code",
   "execution_count": null,
   "id": "91411992",
   "metadata": {},
   "outputs": [],
   "source": []
  },
  {
   "cell_type": "markdown",
   "id": "168b56e7",
   "metadata": {},
   "source": [
    "#### Question 4 \n",
    "Generalize the previous result for a function of the type $\\langle w, x\\rangle + b$ where b is some non-zero number."
   ]
  },
  {
   "cell_type": "code",
   "execution_count": null,
   "id": "49e5569d",
   "metadata": {},
   "outputs": [],
   "source": []
  },
  {
   "cell_type": "markdown",
   "id": "b0fbcbe0",
   "metadata": {},
   "source": [
    "### Matrix vector operations\n"
   ]
  },
  {
   "cell_type": "markdown",
   "id": "b4e3b49e",
   "metadata": {},
   "source": [
    "Let A be a matrix of the form $\\begin{pmatrix} a & b \\\\ c & d \\end{pmatrix}$.\n",
    "\n",
    "A is the matrix representation of the linear function from $\\mathbb{R}^2 \\to \\mathbb{R}^2$ that maps $x = \\begin{pmatrix} x_1 \\\\ x_2\\end{pmatrix} \\mapsto \\begin{pmatrix} a x_1 + b x_2 \\\\ c x_1 + d x_2 \\end{pmatrix} $\n",
    "\n",
    "#### row interpretation\n",
    "Which is usually computed mentally as dot products between rows of A and the column x: \n",
    "\n",
    "$$A x = \\begin{pmatrix} \\langle A_{1.}, x \\rangle \\\\ \\langle A_{2.}, x \\rangle \\end{pmatrix} $$\n",
    "\n",
    "#### column interpretation\n",
    "\n",
    "$Ax$ can also be seen as:\n",
    "\n",
    "$$A x =  x_1 \\begin{pmatrix} a \\\\ c \\end{pmatrix} +  x_2 \\begin{pmatrix} b \\\\ d\\end{pmatrix} = x_1 A_{.1} + x_2 A_{.2}$$\n",
    "Therefore, applying A to $x$ is equivalent to **linearly combining its columns by the coordinates of $x$**"
   ]
  },
  {
   "cell_type": "code",
   "execution_count": null,
   "id": "e829b47b",
   "metadata": {},
   "outputs": [],
   "source": []
  },
  {
   "cell_type": "markdown",
   "id": "37dc14e9",
   "metadata": {},
   "source": [
    "#### Question 5\n",
    "\n",
    "Can you come up with a matrix that performs a projection onto the x-axis ? the y-axis ?  Test it out on some vectors and visualize them."
   ]
  },
  {
   "cell_type": "code",
   "execution_count": null,
   "id": "0106b44a",
   "metadata": {},
   "outputs": [],
   "source": []
  },
  {
   "cell_type": "markdown",
   "id": "479848cb",
   "metadata": {},
   "source": [
    "#### Question 6\n",
    "Look up `rotation matrix` and implement a function that performs a 30 degrees rotation on the plane. Compute its determinant using `np.linalg`. Compute the scalar product between its columns, and the magnitude of its columns. What do you conclude ?"
   ]
  },
  {
   "cell_type": "code",
   "execution_count": null,
   "id": "ddaa06ff",
   "metadata": {},
   "outputs": [],
   "source": []
  },
  {
   "cell_type": "markdown",
   "id": "c8c6b866",
   "metadata": {},
   "source": [
    "#### Question 7\n",
    "A basis in a space is formed by a set of vectors that are orthogonal and have magnitude 1. A matrix formed by orthonormal vectors is called an orthogonal matrix. The spectral theorem says that for every symmetric matrix $A$, there exists an orthogonal matrix P and a diagonal matrix S such that:\n",
    "$$ A = PSP^\\top$$\n",
    "\n",
    "S contains the eigenvalues of A. The columns of P are the eigenvectors of A associated to S. \n",
    "\n",
    "For each $i$, it holds: $$ A P_{.i} = S_i P_{i.} $$\n",
    "\n",
    "Do eigenvalues always exist ? If not, provide a simple and general counter-example."
   ]
  },
  {
   "cell_type": "code",
   "execution_count": null,
   "id": "9d5bc0a1",
   "metadata": {},
   "outputs": [],
   "source": []
  },
  {
   "cell_type": "markdown",
   "id": "88635184",
   "metadata": {},
   "source": [
    "#### Question 8\n",
    "Consider the following gaussian data.\n"
   ]
  },
  {
   "cell_type": "code",
   "execution_count": 17,
   "id": "e543e8a7",
   "metadata": {},
   "outputs": [],
   "source": [
    "cov = np.array([[1, 1], [1, 2]])\n",
    "mean = np.array([0, 0])\n",
    "X = np.random.multivariate_normal(mean, cov=cov, size=2000)"
   ]
  },
  {
   "cell_type": "code",
   "execution_count": 18,
   "id": "21eb3c2d",
   "metadata": {},
   "outputs": [
    {
     "data": {
      "image/png": "[encoded data removed]",
      "text/plain": [
       "<Figure size 640x480 with 1 Axes>"
      ]
     },
     "metadata": {},
     "output_type": "display_data"
    }
   ],
   "source": [
    "plt.figure()\n",
    "plt.scatter(X.T[0], X.T[1], s=5)\n",
    "plt.grid()\n",
    "plt.show()"
   ]
  },
  {
   "cell_type": "markdown",
   "id": "e4f1e2eb",
   "metadata": {},
   "source": [
    "Compute the empirical covariance matrix $\\frac{1}{n}X^\\top X$. What do you notice ?"
   ]
  },
  {
   "cell_type": "code",
   "execution_count": 20,
   "id": "f08d4afc",
   "metadata": {},
   "outputs": [],
   "source": [
    "empirical_cov=X.T.dot(X)/200"
   ]
  },
  {
   "cell_type": "markdown",
   "id": "61c583ee",
   "metadata": {},
   "source": [
    "#### Question 9\n",
    "Perform the eigenvalue decomposition of the empirical covariance matrix. And visualize the eigenvectors using arrows. "
   ]
  },
  {
   "cell_type": "code",
   "execution_count": 21,
   "id": "5ca76737",
   "metadata": {},
   "outputs": [
    {
     "data": {
      "text/plain": [
       "0.025"
      ]
     },
     "execution_count": 21,
     "metadata": {},
     "output_type": "execute_result"
    }
   ],
   "source": [
    "x.T.dot(x)/2000"
   ]
  },
  {
   "cell_type": "markdown",
   "id": "7a4aa629",
   "metadata": {},
   "source": [
    "#### Question 10\n",
    "Using scikit-learn's PCA implementation, compare those eigenvectors with the PCA components attribute. Do they match ?"
   ]
  },
  {
   "cell_type": "code",
   "execution_count": null,
   "id": "f9ead668",
   "metadata": {},
   "outputs": [],
   "source": []
  }
 ],
 "metadata": {
  "kernelspec": {
   "display_name": "Python 3 (ipykernel)",
   "language": "python",
   "name": "python3"
  },
  "language_info": {
   "codemirror_mode": {
    "name": "ipython",
    "version": 3
   },
   "file_extension": ".py",
   "mimetype": "text/x-python",
   "name": "python",
   "nbconvert_exporter": "python",
   "pygments_lexer": "ipython3",
   "version": "3.11.4"
  }
 },
 "nbformat": 4,
 "nbformat_minor": 5
}
