{
 "cells": [
  {
   "cell_type": "markdown",
   "id": "bdea7dd3",
   "metadata": {},
   "source": [
    "* * *\n",
    "<pre> NYU Paris            <i> Artificial intelligence - Fall 2023 </i></pre>\n",
    "* * *\n",
    "\n",
    "\n",
    "<h1 align=\"center\"> Lab 9: Clustering - Blind source separation </h1>\n",
    "\n",
    "<pre align=\"left\"> November 17th 2023               <i> Author: Hicham Janati </i></pre>\n",
    "* * *\n",
    "\n",
    "\n",
    "##### Goals:\n",
    "- Understand the power and limits of PCA and kernel-PCA and ICA\n",
    "- Understand the difference between correlation and statistical independence\n",
    "- Perform blind source separation on real world applications"
   ]
  },
  {
   "cell_type": "code",
   "execution_count": 2,
   "id": "f129f02a",
   "metadata": {},
   "outputs": [
    {
     "ename": "ModuleNotFoundError",
     "evalue": "No module named 'librosa'",
     "output_type": "error",
     "traceback": [
      "\u001b[0;31m---------------------------------------------------------------------------\u001b[0m",
      "\u001b[0;31mModuleNotFoundError\u001b[0m                       Traceback (most recent call last)",
      "Cell \u001b[0;32mIn[2], line 1\u001b[0m\n\u001b[0;32m----> 1\u001b[0m \u001b[38;5;28;01mimport\u001b[39;00m \u001b[38;5;21;01mlibrosa\u001b[39;00m\u001b[38;5;241m,\u001b[39m \u001b[38;5;21;01mIPython\u001b[39;00m\n\u001b[1;32m      2\u001b[0m \u001b[38;5;28;01mimport\u001b[39;00m \u001b[38;5;21;01mnumpy\u001b[39;00m \u001b[38;5;28;01mas\u001b[39;00m \u001b[38;5;21;01mnp\u001b[39;00m\n\u001b[1;32m      3\u001b[0m \u001b[38;5;28;01mfrom\u001b[39;00m \u001b[38;5;21;01mmatplotlib\u001b[39;00m \u001b[38;5;28;01mimport\u001b[39;00m pyplot \u001b[38;5;28;01mas\u001b[39;00m plt\n",
      "\u001b[0;31mModuleNotFoundError\u001b[0m: No module named 'librosa'"
     ]
    }
   ],
   "source": [
    "import librosa, IPython\n",
    "import numpy as np\n",
    "from matplotlib import pyplot as plt\n",
    "from sklearn.decomposition import FastICA, PCA, KernelPCA\n",
    "\n",
    "sr = 22100\n"
   ]
  },
  {
   "cell_type": "markdown",
   "id": "0055616d",
   "metadata": {},
   "source": [
    "## Part I - Mixing sources \n"
   ]
  },
  {
   "cell_type": "markdown",
   "id": "612e99a0",
   "metadata": {},
   "source": [
    "The following function creates two arrays of two music sources. Read and listen to them."
   ]
  },
  {
   "cell_type": "code",
   "execution_count": null,
   "id": "607f3951",
   "metadata": {},
   "outputs": [],
   "source": [
    "def get_music_sources():\n",
    "    dimension = 40000\n",
    "    melody, _ = librosa.load(f\"audio/melody.wav\", mono=True, duration=6, sr=sr)\n",
    "    laugh, _ = librosa.load(f\"audio/laugh.wav\", mono=True, duration=6, sr=sr)\n",
    "\n",
    "    melody = melody[:dimension]\n",
    "    laugh = laugh[:dimension]\n",
    "    return melody, laugh\n",
    "\n"
   ]
  },
  {
   "cell_type": "markdown",
   "id": "8f1612fb",
   "metadata": {},
   "source": [
    "### Question 1\n",
    "Giving N different measures X of N different sources S, blind source separation refers to the operation of\n",
    "unmixing the measures to obtain the original sources. The matrix A (N x N) is called the mixing matrix.\n",
    "\n",
    "$$ X = A S $$\n",
    "\n",
    "With our 2 sources, the matrix A is square (2 x 2).\n",
    "\n",
    "Imagine 2 sensors positioned at two different locations, each is near one of the sources. Propose a mixing matrix A that mixes the sources by a proportional weighted average."
   ]
  },
  {
   "cell_type": "code",
   "execution_count": null,
   "id": "3538d8fd",
   "metadata": {},
   "outputs": [],
   "source": [
    "melody, laugh = get_music_sources()\n",
    "S = np.vstack((melody, laugh))\n",
    "S.shape"
   ]
  },
  {
   "cell_type": "code",
   "execution_count": null,
   "id": "ed2fb37e",
   "metadata": {},
   "outputs": [],
   "source": [
    "IPython.display.Audio(S[0], rate=sr)"
   ]
  },
  {
   "cell_type": "code",
   "execution_count": null,
   "id": "3ca270de",
   "metadata": {},
   "outputs": [],
   "source": [
    "IPython.display.Audio(S[1], rate=sr)"
   ]
  },
  {
   "cell_type": "code",
   "execution_count": null,
   "id": "20e3fa95",
   "metadata": {},
   "outputs": [],
   "source": [
    "def get_mixing_matrix(n=2):\n",
    "    # to do \n",
    "    return A"
   ]
  },
  {
   "cell_type": "code",
   "execution_count": null,
   "id": "39d0fb01",
   "metadata": {},
   "outputs": [],
   "source": []
  },
  {
   "cell_type": "markdown",
   "id": "b40f1d92",
   "metadata": {},
   "source": [
    "\n",
    "### Question 2\n",
    "\n",
    "Mix the two sources above to obtain a matrix X. Listen to both measures of the matrix X. Does the mixing make sense ?"
   ]
  },
  {
   "cell_type": "code",
   "execution_count": null,
   "id": "46422d95",
   "metadata": {},
   "outputs": [],
   "source": []
  },
  {
   "cell_type": "markdown",
   "id": "6b92546c",
   "metadata": {},
   "source": [
    "### Question 3\n",
    "Write a function that performs PCA, KernelPCA or ICA with a given string keyword. "
   ]
  },
  {
   "cell_type": "code",
   "execution_count": null,
   "id": "7377c917",
   "metadata": {},
   "outputs": [],
   "source": [
    "def blind_source_separation(X, ):\n",
    "    \n",
    "    return sources"
   ]
  },
  {
   "cell_type": "markdown",
   "id": "044be72a",
   "metadata": {},
   "source": [
    "### Question 4\n",
    "Compare the performance of each method both quantivately and qualitatively. \n",
    "\n",
    "Hint: reduce the number of time points for kernel PCA if it takes too long."
   ]
  },
  {
   "cell_type": "code",
   "execution_count": null,
   "id": "652f1f14",
   "metadata": {},
   "outputs": [],
   "source": []
  },
  {
   "cell_type": "markdown",
   "id": "942c22e7",
   "metadata": {},
   "source": [
    "### Question 5\n",
    "Write a general function that compares the reconstruction accuracy comparing the original sources to the ones found."
   ]
  },
  {
   "cell_type": "code",
   "execution_count": null,
   "id": "30ac7999",
   "metadata": {},
   "outputs": [],
   "source": []
  },
  {
   "cell_type": "markdown",
   "id": "91831d47",
   "metadata": {},
   "source": [
    "### Question 6\n",
    "To make things more interesting, add a third source that is pure noise. Tune the amount of noise so that we can still hear the other sources. "
   ]
  },
  {
   "cell_type": "code",
   "execution_count": null,
   "id": "38361ac4",
   "metadata": {},
   "outputs": [],
   "source": []
  },
  {
   "cell_type": "markdown",
   "id": "37c27426",
   "metadata": {},
   "source": [
    "### Question 7 \n",
    "Modify the mixing matrix (which is now 3 x 3) function so that it is adapted to 3 sources. Do the 3 measures correspond to what you expected ?"
   ]
  },
  {
   "cell_type": "code",
   "execution_count": null,
   "id": "c55e6ef1",
   "metadata": {},
   "outputs": [],
   "source": []
  },
  {
   "cell_type": "markdown",
   "id": "ef04af07",
   "metadata": {},
   "source": [
    "### Question 8\n",
    "Repeat question 4 with these sources. How does ICA Perform ?"
   ]
  },
  {
   "cell_type": "code",
   "execution_count": null,
   "id": "b6519244",
   "metadata": {},
   "outputs": [],
   "source": []
  },
  {
   "cell_type": "markdown",
   "id": "3cb46e3e",
   "metadata": {},
   "source": [
    "### Question 9\n",
    "Using your score function, tune the kernel scale parameter of KernelPCA. Does it improve the performance ?"
   ]
  },
  {
   "cell_type": "code",
   "execution_count": null,
   "id": "86413d4c",
   "metadata": {},
   "outputs": [],
   "source": []
  },
  {
   "cell_type": "markdown",
   "id": "cb145981",
   "metadata": {},
   "source": [
    "## Part II: ICA for brain imaging  "
   ]
  },
  {
   "cell_type": "markdown",
   "id": "2a275e6f",
   "metadata": {},
   "source": [
    "In the first part, we have manually combined the sources with a mixing matrix then tried to separate them. In part II, we are given real sensor data of 59 electromagnetic sensors around the head of an indivudal. Each sensor measures the signals of the electromagnetic field produced by electrical currents in the brain at multiple time points. These data are called Electro-encephalography / Magneto-encephalography (EEG/MEG) data."
   ]
  },
  {
   "cell_type": "markdown",
   "id": "25a3e364",
   "metadata": {},
   "source": [
    "### Question\n",
    "Install mne-python via `pip install mne` and restart the notebook."
   ]
  },
  {
   "cell_type": "code",
   "execution_count": null,
   "id": "23403588",
   "metadata": {},
   "outputs": [],
   "source": [
    "import mne\n",
    "\n",
    "data_path = mne.datasets.sample.data_path()\n",
    "raw_fname = data_path / 'MEG' / 'sample' / 'sample_audvis_raw.fif'\n",
    "raw = mne.io.read_raw_fif(raw_fname, verbose=False)\n",
    "raw.crop(tmin=0, tmax=150, verbose=False)\n",
    "raw.pick_types(eeg=True, meg=True, verbose=False)\n",
    "raw.load_data(verbose=False)\n",
    "raw.filter(l_freq=1., h_freq=None, verbose=False)\n",
    "X = raw.get_data(verbose=False)\n",
    "times = raw.times\n",
    "X.shape, times.shape"
   ]
  },
  {
   "cell_type": "markdown",
   "id": "a2ee8498",
   "metadata": {},
   "source": [
    "After the stimulus at t = 0ms, the `times` array contains the time coordinates in milliseconds of each sensor measurement. You can access the names of channels via:"
   ]
  },
  {
   "cell_type": "code",
   "execution_count": 15,
   "id": "9590369f",
   "metadata": {},
   "outputs": [
    {
     "name": "stdout",
     "output_type": "stream",
     "text": [
      "Data shape: (364, 90093)\n",
      "Time shape: (90093,)\n"
     ]
    }
   ],
   "source": [
    "raw.info.ch_names[:5]\n",
    "print(\"Data shape:\", X.shape)\n",
    "print(\"Time shape:\", times.shape)"
   ]
  },
  {
   "cell_type": "markdown",
   "id": "4032b80b",
   "metadata": {},
   "source": [
    "### Question 10\n",
    "Visualize the raw time series produced by each sensor in a 59 x 1 plt.subplots figure. Use a large figsize to see them all. Use the times numpy array returned by get_neuro_data for the x axis coordinates."
   ]
  },
  {
   "cell_type": "code",
   "execution_count": null,
   "id": "5b5e3a81",
   "metadata": {},
   "outputs": [],
   "source": []
  },
  {
   "cell_type": "markdown",
   "id": "c1b88f99",
   "metadata": {},
   "source": [
    "### Question 11\n",
    "ICA is used by clinicians to process sensor (EEG/MEG) data and detect artifacts that are captured by the sensors but are not of neuroscientific interest such as heart beats, muscle movements and eye blinks.\n",
    "Run PCA and ICA on the data with varied number of components (5-15) and visualize the components. Do you notice any particular ones ?"
   ]
  },
  {
   "cell_type": "code",
   "execution_count": null,
   "id": "d90e80c1",
   "metadata": {},
   "outputs": [],
   "source": []
  },
  {
   "cell_type": "markdown",
   "id": "b6669a3d",
   "metadata": {},
   "source": [
    "### Question 12\n",
    "\n",
    "The following function can visualize the component (i.e reconstructed source) in the original sensor. This data can be found in the attribute `components_` of the PCA/ICA object. Visualize the components in the original sensor space using the following function. "
   ]
  },
  {
   "cell_type": "code",
   "execution_count": null,
   "id": "49b6bfd5",
   "metadata": {},
   "outputs": [],
   "source": [
    "def plot_component_on_brain(component_data, component_number=0, ax=None):\n",
    "    show = False\n",
    "    if ax is None:\n",
    "        _, ax = plt.subplots(1, 1, figsize=(6, 6))\n",
    "        show = True\n",
    "    mne.viz.plot_topomap(ica_comp, raw.info, axes=ax, show=False)\n",
    "    ax.set_title(f\"ICA component {component_number}\")\n",
    "    if show:\n",
    "        plt.show()\n",
    "    return ax"
   ]
  },
  {
   "cell_type": "code",
   "execution_count": null,
   "id": "e223ab6a",
   "metadata": {},
   "outputs": [],
   "source": []
  },
  {
   "cell_type": "markdown",
   "id": "26c9604c",
   "metadata": {},
   "source": [
    "### Question 13\n",
    "This data was collected on a subject who was exposed to an audio-visual stimulus at t=0. On average, humans react to such stimuli at least 100ms after the onset. Here, the onset is t=0ms.  \n",
    "\n",
    "Using ICA with 15 components, relying on both the temporal and the sensor visualizations, can you propose a plausible explanation for the source captured by some of the components ?"
   ]
  },
  {
   "cell_type": "code",
   "execution_count": null,
   "id": "3099f949",
   "metadata": {},
   "outputs": [],
   "source": []
  },
  {
   "cell_type": "markdown",
   "id": "052ed74b",
   "metadata": {},
   "source": [
    "### Question 14\n",
    "Repeat this analysis with PCA. What do you observe ?"
   ]
  },
  {
   "cell_type": "code",
   "execution_count": null,
   "id": "ea3f7933",
   "metadata": {},
   "outputs": [],
   "source": []
  }
 ],
 "metadata": {
  "kernelspec": {
   "display_name": "Python 3 (ipykernel)",
   "language": "python",
   "name": "python3"
  },
  "language_info": {
   "codemirror_mode": {
    "name": "ipython",
    "version": 3
   },
   "file_extension": ".py",
   "mimetype": "text/x-python",
   "name": "python",
   "nbconvert_exporter": "python",
   "pygments_lexer": "ipython3",
   "version": "3.11.4"
  }
 },
 "nbformat": 4,
 "nbformat_minor": 5
}
